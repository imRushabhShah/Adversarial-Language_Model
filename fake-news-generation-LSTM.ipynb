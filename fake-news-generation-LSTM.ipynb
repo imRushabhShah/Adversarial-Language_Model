{
 "cells": [
  {
   "cell_type": "markdown",
   "metadata": {},
   "source": [
    "## Convolutional DNN"
   ]
  },
  {
   "cell_type": "code",
   "execution_count": 1,
   "metadata": {},
   "outputs": [
    {
     "name": "stderr",
     "output_type": "stream",
     "text": [
      "[nltk_data] Downloading package punkt to\n",
      "[nltk_data]     C:\\Users\\rusha\\AppData\\Roaming\\nltk_data...\n",
      "[nltk_data]   Package punkt is already up-to-date!\n",
      "[nltk_data] Downloading package averaged_perceptron_tagger to\n",
      "[nltk_data]     C:\\Users\\rusha\\AppData\\Roaming\\nltk_data...\n",
      "[nltk_data]   Package averaged_perceptron_tagger is already up-to-\n",
      "[nltk_data]       date!\n",
      "[nltk_data] Downloading package wordnet to\n",
      "[nltk_data]     C:\\Users\\rusha\\AppData\\Roaming\\nltk_data...\n",
      "[nltk_data]   Package wordnet is already up-to-date!\n",
      "Using TensorFlow backend.\n"
     ]
    }
   ],
   "source": [
    "import numpy as np\n",
    "import pandas as pd\n",
    "%matplotlib inline\n",
    "import matplotlib.pyplot as plt\n",
    "from attack_utils import get_synonymes#, attack, predict_sentence\n",
    "import random\n",
    "import nltk\n",
    "import operator\n",
    "from tqdm import tqdm\n",
    "import keras\n",
    "from keras.preprocessing.text import Tokenizer\n",
    "from keras.preprocessing.sequence import pad_sequences\n",
    "from keras.utils import to_categorical\n",
    "from keras.layers import Input,LSTM,Embedding,Flatten,Dense\n",
    "from keras.layers import Dense, Input, CuDNNLSTM, Embedding, Dropout, Activation,TimeDistributed\n",
    "from keras.layers import Bidirectional, LSTM\n",
    "from keras.layers import Input, Embedding, Dense, Conv2D, MaxPool2D, concatenate,BatchNormalization,MaxPooling1D, Convolution1D\n",
    "from keras.layers import Reshape, Flatten, Concatenate, Dropout, SpatialDropout1D, RepeatVector, Permute, merge\n",
    "from keras import backend as K\n",
    "from keras import layers\n",
    "from keras.models import Sequential, Model"
   ]
  },
  {
   "cell_type": "code",
   "execution_count": 2,
   "metadata": {},
   "outputs": [],
   "source": [
    "MAX_SEQUENCE_LENGTH = 5000\n",
    "MAX_NUM_WORDS = 25000\n",
    "EMBEDDING_DIM = 300\n",
    "TEST_SPLIT = 0.2\n",
    "SAVE_MODEL_PATH = './save/model/'\n",
    "TEXT_DATA = 'data/fake_or_real_news.csv'\n",
    "EMBEDDING_FILE=f'glove.6B.{EMBEDDING_DIM}d.txt'"
   ]
  },
  {
   "cell_type": "code",
   "execution_count": 3,
   "metadata": {},
   "outputs": [],
   "source": [
    "# read in our data and preprocess it\n",
    "\n",
    "df = pd.read_csv(TEXT_DATA)\n",
    "df.drop(labels=['id','title'], axis='columns', inplace=True)\n",
    "# only select stories with lengths gt 0 -- there are some texts with len = 0\n",
    "mask = list(df['text'].apply(lambda x: len(x) > 0))\n",
    "df = df[mask]"
   ]
  },
  {
   "cell_type": "code",
   "execution_count": 4,
   "metadata": {},
   "outputs": [
    {
     "name": "stdout",
     "output_type": "stream",
     "text": [
      "Found 6335 texts.\n"
     ]
    }
   ],
   "source": [
    "# prepare text samples and their labels\n",
    "\n",
    "texts = df['text']\n",
    "labels = df['label']\n",
    "\n",
    "print('Found %s texts.' %texts.shape[0])"
   ]
  },
  {
   "cell_type": "code",
   "execution_count": null,
   "metadata": {},
   "outputs": [],
   "source": []
  },
  {
   "cell_type": "code",
   "execution_count": null,
   "metadata": {},
   "outputs": [],
   "source": []
  },
  {
   "cell_type": "code",
   "execution_count": 5,
   "metadata": {},
   "outputs": [
    {
     "name": "stdout",
     "output_type": "stream",
     "text": [
      "Found 99682 unique tokens.\n",
      "Shape of data tensor: (6335, 5000)\n",
      "Shape of label tensor: (6335,)\n"
     ]
    }
   ],
   "source": [
    "# vectorize the text samples into a 2D integer tensor \n",
    "\n",
    "tokenizer = Tokenizer(num_words=MAX_NUM_WORDS)\n",
    "tokenizer.fit_on_texts(texts)\n",
    "sequences = tokenizer.texts_to_sequences(texts)\n",
    "\n",
    "word_index = tokenizer.word_index\n",
    "num_words = min(MAX_NUM_WORDS, len(word_index)) + 1\n",
    "data = pad_sequences(sequences, \n",
    "                     maxlen=MAX_SEQUENCE_LENGTH, \n",
    "                     padding='pre', \n",
    "                     truncating='pre')\n",
    "\n",
    "print('Found %s unique tokens.' % len(word_index))\n",
    "print('Shape of data tensor:', data.shape)\n",
    "print('Shape of label tensor:', labels.shape)"
   ]
  },
  {
   "cell_type": "code",
   "execution_count": 6,
   "metadata": {},
   "outputs": [],
   "source": [
    "# split the data into a training set and a validation set   \n",
    "\n",
    "from sklearn.model_selection import train_test_split\n",
    "\n",
    "x_train, x_val, y_train, y_val = train_test_split(data, \n",
    "                                                  labels.apply(lambda x: 0 if x == 'FAKE' else 1), \n",
    "                                                  test_size=TEST_SPLIT)"
   ]
  },
  {
   "cell_type": "code",
   "execution_count": null,
   "metadata": {},
   "outputs": [],
   "source": []
  },
  {
   "cell_type": "code",
   "execution_count": null,
   "metadata": {},
   "outputs": [],
   "source": []
  },
  {
   "cell_type": "code",
   "execution_count": 7,
   "metadata": {},
   "outputs": [],
   "source": [
    "# Read the glove word vectors (space delimited strings) into a dictionary from word->vector.\n",
    "\n",
    "def get_coefs(word,*arr): return word, np.asarray(arr, dtype='float32')\n",
    "embeddings_index = dict(get_coefs(*o.strip().split()) for o in open(EMBEDDING_FILE, encoding=\"utf8\"))"
   ]
  },
  {
   "cell_type": "code",
   "execution_count": 8,
   "metadata": {},
   "outputs": [
    {
     "name": "stderr",
     "output_type": "stream",
     "text": [
      "C:\\ProgramData\\Anaconda3\\lib\\site-packages\\ipykernel_launcher.py:2: FutureWarning: arrays to stack must be passed as a \"sequence\" type such as list or tuple. Support for non-sequence iterables such as generators is deprecated as of NumPy 1.16 and will raise an error in the future.\n",
      "  \n"
     ]
    }
   ],
   "source": [
    "\n",
    "all_embs = np.stack(embeddings_index.values())\n",
    "emb_mean,emb_std = all_embs.mean(), all_embs.std()\n",
    "emb_mean,emb_std\n",
    "\n",
    "word_index = tokenizer.word_index\n",
    "nb_words = min(MAX_NUM_WORDS, len(word_index))\n",
    "embedding_matrix = np.random.normal(emb_mean, emb_std, (nb_words, EMBEDDING_DIM))\n",
    "for word, i in word_index.items():\n",
    "    if i >= MAX_NUM_WORDS: continue\n",
    "    embedding_vector = embeddings_index.get(word)\n",
    "    if embedding_vector is not None: embedding_matrix[i] = embedding_vector"
   ]
  },
  {
   "cell_type": "code",
   "execution_count": 9,
   "metadata": {},
   "outputs": [
    {
     "name": "stdout",
     "output_type": "stream",
     "text": [
      "WARNING:tensorflow:From C:\\ProgramData\\Anaconda3\\lib\\site-packages\\tensorflow\\python\\ops\\nn_impl.py:180: add_dispatch_support.<locals>.wrapper (from tensorflow.python.ops.array_ops) is deprecated and will be removed in a future version.\n",
      "Instructions for updating:\n",
      "Use tf.where in 2.0, which has the same broadcast rule as np.where\n",
      "model fitting - LSTM network\n",
      "Model: \"model_1\"\n",
      "_________________________________________________________________\n",
      "Layer (type)                 Output Shape              Param #   \n",
      "=================================================================\n",
      "input_1 (InputLayer)         (None, 5000)              0         \n",
      "_________________________________________________________________\n",
      "embedding_1 (Embedding)      (None, 5000, 300)         7500000   \n",
      "_________________________________________________________________\n",
      "lstm_1 (LSTM)                (None, 5000, 100)         160400    \n",
      "_________________________________________________________________\n",
      "flatten_1 (Flatten)          (None, 500000)            0         \n",
      "_________________________________________________________________\n",
      "dense_1 (Dense)              (None, 1)                 500001    \n",
      "=================================================================\n",
      "Total params: 8,160,401\n",
      "Trainable params: 660,401\n",
      "Non-trainable params: 7,500,000\n",
      "_________________________________________________________________\n"
     ]
    }
   ],
   "source": [
    "BATCH_SIZE = 128\n",
    "\n",
    "# convs = []\n",
    "# filter_sizes = [3,4,5]\n",
    "model=None\n",
    "sequence_input = Input(shape=(MAX_SEQUENCE_LENGTH,), dtype='int32')\n",
    "embedding_layer = Embedding(MAX_NUM_WORDS,\n",
    "                            EMBEDDING_DIM,\n",
    "                            weights=[embedding_matrix],\n",
    "                            input_length=MAX_SEQUENCE_LENGTH,\n",
    "                            trainable=False)\n",
    "\n",
    "\n",
    "embedded_sequences = embedding_layer(sequence_input)\n",
    "# l_lstm = Bidirectional(LSTM(100, return_sequences=True))(embedded_sequences)\n",
    "l_lstm = LSTM(100, return_sequences=True)(embedded_sequences)\n",
    "f = Flatten()(l_lstm)\n",
    "# preds = Dense(1, activation='softmax')(f)\n",
    "preds = Dense(1, activation='sigmoid')(f)\n",
    "# preds = TimeDistributed(2, Dense(200,activation='relu'))(l_gru)\n",
    "model = Model(sequence_input, preds)\n",
    "\n",
    "model.compile(loss='binary_crossentropy',\n",
    "              optimizer='rmsprop',\n",
    "              metrics=['acc'])\n",
    "\n",
    "print(\"model fitting - LSTM network\")\n",
    "# checkpointer = ModelCheckpoint(filepath=\"weights.hdf5\", verbose=1, save_best_only=True)\n",
    "model.summary()"
   ]
  },
  {
   "cell_type": "code",
   "execution_count": 10,
   "metadata": {},
   "outputs": [],
   "source": [
    "# define a function that allows us to evaluate our models\n",
    "\n",
    "from sklearn.metrics import accuracy_score\n",
    "\n",
    "def evaluate_model(predict_fun, X_train, y_train, X_test, y_test):\n",
    "    '''\n",
    "    evaluate the model, both training and testing errors are reported\n",
    "    '''\n",
    "    # training error\n",
    "    y_predict_train = predict_fun(X_train)\n",
    "    train_acc = accuracy_score(y_train,y_predict_train)\n",
    "    \n",
    "    # testing error\n",
    "    y_predict_test = predict_fun(X_test)\n",
    "    test_acc = accuracy_score(y_test,y_predict_test)\n",
    "    \n",
    "    return train_acc, test_acc"
   ]
  },
  {
   "cell_type": "code",
   "execution_count": 11,
   "metadata": {},
   "outputs": [],
   "source": [
    "# define a function that allows us to evaluate our models\n",
    "\n",
    "from sklearn.metrics import accuracy_score\n",
    "\n",
    "def evaluate_ourfakes(model, Fake_texts):\n",
    "    '''\n",
    "    evaluate the model, both training and testing errors are reported\n",
    "    '''\n",
    "    missclasified_fakes = []\n",
    "    correct_clasified_fakes = []\n",
    "    def predict(X):\n",
    "        return np.rint(model.predict(X))\n",
    "    # training error\n",
    "    y_predict = predict(Fake_texts)\n",
    "    y = np.zeros(len(y_predict))\n",
    "    for i in range(len(y_predict)):\n",
    "        missclasified_fakes.append(Fake_texts[i]) if y_predict[i] == 1 else correct_clasified_fakes.append(Fake_texts[i])\n",
    "    acc = accuracy_score(y,y_predict) #model.evaluate(Fake_texts,y)\n",
    "    return acc, missclasified_fakes, correct_clasified_fakes"
   ]
  },
  {
   "cell_type": "code",
   "execution_count": 12,
   "metadata": {},
   "outputs": [],
   "source": [
    "model.load_weights(SAVE_MODEL_PATH+'glove_LSTM_model.h5') # replace X with the last saved checkpoint number\n"
   ]
  },
  {
   "cell_type": "code",
   "execution_count": 13,
   "metadata": {},
   "outputs": [],
   "source": [
    "def predict_sentence(model,sent):\n",
    "    try_vector = tokenizer.texts_to_sequences([sent])\n",
    "    try_vector = pad_sequences([try_vector[0]], \n",
    "                     maxlen=MAX_SEQUENCE_LENGTH, \n",
    "                     padding='pre', \n",
    "                     truncating='pre')\n",
    "    val = model.predict(try_vector)\n",
    "    return val\n"
   ]
  },
  {
   "cell_type": "code",
   "execution_count": null,
   "metadata": {},
   "outputs": [],
   "source": []
  },
  {
   "cell_type": "code",
   "execution_count": 14,
   "metadata": {},
   "outputs": [],
   "source": [
    "faker = list(df['label'].apply(lambda x: x == 'FAKE'))\n",
    "fakes = df[faker]\n",
    "fake_texts = fakes['text']\n",
    "# fake_labels = fakes['label']"
   ]
  },
  {
   "cell_type": "code",
   "execution_count": 15,
   "metadata": {},
   "outputs": [],
   "source": [
    "fake_text_vectors = tokenizer.texts_to_sequences(fake_texts)\n",
    "fake_text_vectors = pad_sequences(fake_text_vectors, \n",
    "                     maxlen=MAX_SEQUENCE_LENGTH, \n",
    "                     padding='pre', \n",
    "                     truncating='pre')"
   ]
  },
  {
   "cell_type": "code",
   "execution_count": null,
   "metadata": {},
   "outputs": [],
   "source": []
  },
  {
   "cell_type": "code",
   "execution_count": 16,
   "metadata": {},
   "outputs": [
    {
     "name": "stdout",
     "output_type": "stream",
     "text": [
      "WARNING:tensorflow:From C:\\ProgramData\\Anaconda3\\lib\\site-packages\\keras\\backend\\tensorflow_backend.py:422: The name tf.global_variables is deprecated. Please use tf.compat.v1.global_variables instead.\n",
      "\n"
     ]
    }
   ],
   "source": [
    "acc, missclasified_fakes, correct_clasified_fakes = evaluate_ourfakes(model, fake_text_vectors)"
   ]
  },
  {
   "cell_type": "code",
   "execution_count": null,
   "metadata": {},
   "outputs": [],
   "source": []
  },
  {
   "cell_type": "code",
   "execution_count": null,
   "metadata": {},
   "outputs": [],
   "source": []
  },
  {
   "cell_type": "code",
   "execution_count": 17,
   "metadata": {},
   "outputs": [
    {
     "name": "stdout",
     "output_type": "stream",
     "text": [
      "total missclassified fakes 827 total correctly classified fakes 2337\n"
     ]
    }
   ],
   "source": [
    "print(\"total missclassified fakes\",len(missclasified_fakes),\"total correctly classified fakes\",len(correct_clasified_fakes))"
   ]
  },
  {
   "cell_type": "code",
   "execution_count": 18,
   "metadata": {},
   "outputs": [],
   "source": [
    "correct_fakes =tokenizer.sequences_to_texts(correct_clasified_fakes)"
   ]
  },
  {
   "cell_type": "code",
   "execution_count": 19,
   "metadata": {},
   "outputs": [],
   "source": [
    "# with open(f'CNN1d_correct_fakes.txt','w', encoding=\"utf-8\") as f:\n",
    "#     f.writelines(correct_fakes)"
   ]
  },
  {
   "cell_type": "code",
   "execution_count": null,
   "metadata": {},
   "outputs": [],
   "source": []
  },
  {
   "cell_type": "code",
   "execution_count": null,
   "metadata": {},
   "outputs": [],
   "source": []
  },
  {
   "cell_type": "code",
   "execution_count": 20,
   "metadata": {},
   "outputs": [],
   "source": [
    "# with open(f'CNN1d_correct_fakes.txt','r', encoding=\"utf-8\") as f:\n",
    "#     correct_fakes = f.readlines()"
   ]
  },
  {
   "cell_type": "code",
   "execution_count": 171,
   "metadata": {},
   "outputs": [],
   "source": [
    "def attack(dummy,pertub=1, printSwaps = False):    \n",
    "    dummy_temp = nltk.word_tokenize(dummy[:MAX_SEQUENCE_LENGTH])\n",
    "    second_dummy = nltk.word_tokenize(dummy[:MAX_SEQUENCE_LENGTH])\n",
    "    success_index=[]\n",
    "    done = False\n",
    "    unsuccessfullSwaps = 0\n",
    "    for i in range(int(len(dummy_temp)*pertub)):\n",
    "        if done:\n",
    "            break\n",
    "        itter = 0\n",
    "        while itter<10000:\n",
    "            itter+=1\n",
    "            v = random.randint(0,len(dummy_temp)-1)\n",
    "            syns,_ = get_synonymes(dummy_temp[v])\n",
    "            if len(syns)>0:\n",
    "                break\n",
    "        if itter == 10000:\n",
    "            print(\"didnt catch any synonymes\")\n",
    "            continue\n",
    "        candidates = {}\n",
    "        # candidate is a scored candidate dictionary storing all the \n",
    "        # synonymes with prediction Score\n",
    "        word = dummy_temp[v]\n",
    "        sent = \" \".join(dummy_temp)\n",
    "        candidates[word]=predict_sentence(model,sent)\n",
    "        for s in syns:\n",
    "            dummy_temp[v] = s\n",
    "            sent = (\" \".join(dummy_temp))\n",
    "            val = predict_sentence(model,sent)\n",
    "            candidates[s] = val\n",
    "            if val>=0.5:\n",
    "#                 print(\"got changes in \",i,val)\n",
    "                success_index.append(v)\n",
    "                done = True\n",
    "                break\n",
    "    #         best_candidate = max(candidates.iteritems(), key=operator.itemgetter(1))[0]\n",
    "        best_candidate = max(candidates, key=candidates.get)\n",
    "        if word == best_candidate:\n",
    "            unsuccessfullSwaps+=1\n",
    "        else:\n",
    "            success_index.append(v)\n",
    "#             if printSwaps:\n",
    "#                 print(\"did not swap\")\n",
    "#         else:\n",
    "#             if printSwaps:\n",
    "#             print(word,best_candidate)\n",
    "        dummy_temp[v] = best_candidate\n",
    "    if not done:\n",
    "#         print(\"sorry\")\n",
    "        return 0,None\n",
    "    for i in set(success_index):\n",
    "        dummy_temp[i] = \"\\emph{\\{\"+dummy_temp[i]+\"/\"+second_dummy[i]+\"\\}}\"\n",
    "    print(\"swaps done \",i-unsuccessfullSwaps,\"total words\",len(dummy_temp),\"unsucessfull swaps try\",unsuccessfullSwaps)\n",
    "    return i-unsuccessfullSwaps,\" \".join(dummy_temp)"
   ]
  },
  {
   "cell_type": "code",
   "execution_count": 27,
   "metadata": {
    "scrolled": true
   },
   "outputs": [
    {
     "name": "stderr",
     "output_type": "stream",
     "text": [
      "\n",
      "\n",
      "  0%|          | 0/200 [00:00<?, ?it/s]\u001b[A\u001b[A\n",
      "\n",
      "  0%|          | 1/200 [02:29<8:14:32, 149.11s/it]\u001b[A\u001b[A"
     ]
    },
    {
     "name": "stdout",
     "output_type": "stream",
     "text": [
      "swaps done  27 total words 926 unsucessfull swaps try 4\n"
     ]
    },
    {
     "name": "stderr",
     "output_type": "stream",
     "text": [
      "\n",
      "\n",
      "  1%|          | 2/200 [10:33<13:43:29, 249.54s/it]\u001b[A\u001b[A"
     ]
    },
    {
     "name": "stdout",
     "output_type": "stream",
     "text": [
      "swaps done  57 total words 455 unsucessfull swaps try 31\n"
     ]
    },
    {
     "name": "stderr",
     "output_type": "stream",
     "text": [
      "\n",
      "\n",
      "  2%|▏         | 3/200 [10:34<9:34:40, 175.03s/it] \u001b[A\u001b[A"
     ]
    },
    {
     "name": "stdout",
     "output_type": "stream",
     "text": [
      "swaps done  2 total words 427 unsucessfull swaps try 0\n"
     ]
    },
    {
     "name": "stderr",
     "output_type": "stream",
     "text": [
      "\n",
      "\n",
      "  2%|▏         | 4/200 [12:46<8:50:10, 162.30s/it]\u001b[A\u001b[A"
     ]
    },
    {
     "name": "stdout",
     "output_type": "stream",
     "text": [
      "swaps done  24 total words 947 unsucessfull swaps try 7\n"
     ]
    },
    {
     "name": "stderr",
     "output_type": "stream",
     "text": [
      "\n",
      "\n",
      "  2%|▎         | 5/200 [22:42<15:49:46, 292.24s/it]\u001b[A\u001b[A"
     ]
    },
    {
     "name": "stdout",
     "output_type": "stream",
     "text": [
      "swaps done  76 total words 563 unsucessfull swaps try 36\n"
     ]
    },
    {
     "name": "stderr",
     "output_type": "stream",
     "text": [
      "\n",
      "\n",
      "  3%|▎         | 6/200 [33:37<21:36:49, 401.08s/it]\u001b[A\u001b[A"
     ]
    },
    {
     "name": "stdout",
     "output_type": "stream",
     "text": [
      "swaps done  93 total words 222 unsucessfull swaps try 54\n"
     ]
    },
    {
     "name": "stderr",
     "output_type": "stream",
     "text": [
      "\n",
      "\n",
      "  4%|▎         | 7/200 [33:44<15:09:55, 282.88s/it]\u001b[A\u001b[A"
     ]
    },
    {
     "name": "stdout",
     "output_type": "stream",
     "text": [
      "swaps done  4 total words 55 unsucessfull swaps try 0\n"
     ]
    },
    {
     "name": "stderr",
     "output_type": "stream",
     "text": [
      "\n",
      "\n",
      "  4%|▍         | 8/200 [38:00<14:39:32, 274.86s/it]\u001b[A\u001b[A"
     ]
    },
    {
     "name": "stdout",
     "output_type": "stream",
     "text": [
      "swaps done  43 total words 145 unsucessfull swaps try 13\n"
     ]
    },
    {
     "name": "stderr",
     "output_type": "stream",
     "text": [
      "\n",
      "\n",
      "  4%|▍         | 9/200 [51:29<23:05:31, 435.24s/it]\u001b[A\u001b[A"
     ]
    },
    {
     "name": "stdout",
     "output_type": "stream",
     "text": [
      "swaps done  99 total words 287 unsucessfull swaps try 62\n"
     ]
    },
    {
     "name": "stderr",
     "output_type": "stream",
     "text": [
      "\n",
      "\n",
      "  5%|▌         | 10/200 [57:47<22:03:25, 417.92s/it]\u001b[A\u001b[A"
     ]
    },
    {
     "name": "stdout",
     "output_type": "stream",
     "text": [
      "swaps done  61 total words 196 unsucessfull swaps try 26\n"
     ]
    },
    {
     "name": "stderr",
     "output_type": "stream",
     "text": [
      "\n",
      "\n",
      "  6%|▌         | 11/200 [58:31<16:03:22, 305.83s/it]\u001b[A\u001b[A"
     ]
    },
    {
     "name": "stdout",
     "output_type": "stream",
     "text": [
      "swaps done  12 total words 813 unsucessfull swaps try 3\n"
     ]
    },
    {
     "name": "stderr",
     "output_type": "stream",
     "text": [
      "\n",
      "\n",
      "  6%|▌         | 12/200 [1:04:17<16:35:37, 317.75s/it]\u001b[A\u001b[A"
     ]
    },
    {
     "name": "stdout",
     "output_type": "stream",
     "text": [
      "swaps done  59 total words 713 unsucessfull swaps try 21\n"
     ]
    },
    {
     "name": "stderr",
     "output_type": "stream",
     "text": [
      "\n",
      "\n",
      "  6%|▋         | 13/200 [1:20:46<26:58:22, 519.26s/it]\u001b[A\u001b[A"
     ]
    },
    {
     "name": "stdout",
     "output_type": "stream",
     "text": [
      "swaps done  137 total words 514 unsucessfull swaps try 67\n"
     ]
    },
    {
     "name": "stderr",
     "output_type": "stream",
     "text": [
      "\n",
      "\n",
      "  7%|▋         | 14/200 [1:36:13<33:08:48, 641.55s/it]\u001b[A\u001b[A"
     ]
    },
    {
     "name": "stdout",
     "output_type": "stream",
     "text": [
      "swaps done  111 total words 753 unsucessfull swaps try 55\n"
     ]
    },
    {
     "name": "stderr",
     "output_type": "stream",
     "text": [
      "\n",
      "\n",
      "  8%|▊         | 15/200 [1:40:41<27:12:31, 529.47s/it]\u001b[A\u001b[A"
     ]
    },
    {
     "name": "stdout",
     "output_type": "stream",
     "text": [
      "swaps done  40 total words 315 unsucessfull swaps try 16\n"
     ]
    },
    {
     "name": "stderr",
     "output_type": "stream",
     "text": [
      "\n",
      "\n",
      "  8%|▊         | 16/200 [1:51:40<29:02:43, 568.28s/it]\u001b[A\u001b[A"
     ]
    },
    {
     "name": "stdout",
     "output_type": "stream",
     "text": [
      "swaps done  95 total words 1008 unsucessfull swaps try 39\n"
     ]
    },
    {
     "name": "stderr",
     "output_type": "stream",
     "text": [
      "\n",
      "\n",
      "  8%|▊         | 17/200 [1:55:12<23:27:34, 461.50s/it]\u001b[A\u001b[A"
     ]
    },
    {
     "name": "stdout",
     "output_type": "stream",
     "text": [
      "swaps done  30 total words 362 unsucessfull swaps try 15\n"
     ]
    },
    {
     "name": "stderr",
     "output_type": "stream",
     "text": [
      "\n",
      "\n",
      "  9%|▉         | 18/200 [1:58:08<18:59:59, 375.82s/it]\u001b[A\u001b[A"
     ]
    },
    {
     "name": "stdout",
     "output_type": "stream",
     "text": [
      "swaps done  27 total words 344 unsucessfull swaps try 9\n"
     ]
    },
    {
     "name": "stderr",
     "output_type": "stream",
     "text": [
      "\n",
      "\n",
      " 10%|▉         | 19/200 [2:04:52<19:19:23, 384.33s/it]\u001b[A\u001b[A"
     ]
    },
    {
     "name": "stdout",
     "output_type": "stream",
     "text": [
      "swaps done  64 total words 258 unsucessfull swaps try 39\n"
     ]
    },
    {
     "name": "stderr",
     "output_type": "stream",
     "text": [
      "\n",
      "\n",
      " 10%|█         | 20/200 [2:07:13<15:33:36, 311.20s/it]\u001b[A\u001b[A"
     ]
    },
    {
     "name": "stdout",
     "output_type": "stream",
     "text": [
      "swaps done  24 total words 241 unsucessfull swaps try 13\n"
     ]
    },
    {
     "name": "stderr",
     "output_type": "stream",
     "text": [
      "\n",
      "\n",
      " 10%|█         | 21/200 [2:11:04<14:16:49, 287.20s/it]\u001b[A\u001b[A"
     ]
    },
    {
     "name": "stdout",
     "output_type": "stream",
     "text": [
      "swaps done  38 total words 515 unsucessfull swaps try 14\n"
     ]
    },
    {
     "name": "stderr",
     "output_type": "stream",
     "text": [
      "\n",
      "\n",
      " 11%|█         | 22/200 [2:12:51<11:31:58, 233.25s/it]\u001b[A\u001b[A"
     ]
    },
    {
     "name": "stdout",
     "output_type": "stream",
     "text": [
      "swaps done  20 total words 58 unsucessfull swaps try 3\n"
     ]
    },
    {
     "name": "stderr",
     "output_type": "stream",
     "text": [
      "\n",
      "\n",
      " 12%|█▏        | 23/200 [2:23:13<17:11:45, 349.75s/it]\u001b[A\u001b[A"
     ]
    },
    {
     "name": "stdout",
     "output_type": "stream",
     "text": [
      "swaps done  82 total words 303 unsucessfull swaps try 39\n"
     ]
    },
    {
     "name": "stderr",
     "output_type": "stream",
     "text": [
      "\n",
      "\n",
      " 12%|█▏        | 24/200 [2:30:51<18:40:47, 382.09s/it]\u001b[A\u001b[A"
     ]
    },
    {
     "name": "stdout",
     "output_type": "stream",
     "text": [
      "swaps done  74 total words 525 unsucessfull swaps try 30\n"
     ]
    },
    {
     "name": "stderr",
     "output_type": "stream",
     "text": [
      "\n",
      "\n",
      " 12%|█▎        | 25/200 [2:36:32<17:58:53, 369.91s/it]\u001b[A\u001b[A"
     ]
    },
    {
     "name": "stdout",
     "output_type": "stream",
     "text": [
      "swaps done  49 total words 190 unsucessfull swaps try 20\n"
     ]
    },
    {
     "name": "stderr",
     "output_type": "stream",
     "text": [
      "\n",
      "\n",
      " 13%|█▎        | 26/200 [2:46:27<21:08:40, 437.47s/it]\u001b[A\u001b[A"
     ]
    },
    {
     "name": "stdout",
     "output_type": "stream",
     "text": [
      "swaps done  72 total words 198 unsucessfull swaps try 36\n"
     ]
    },
    {
     "name": "stderr",
     "output_type": "stream",
     "text": [
      "\n",
      "\n",
      " 14%|█▎        | 27/200 [2:47:49<15:53:31, 330.70s/it]\u001b[A\u001b[A"
     ]
    },
    {
     "name": "stdout",
     "output_type": "stream",
     "text": [
      "swaps done  15 total words 31 unsucessfull swaps try 5\n"
     ]
    },
    {
     "name": "stderr",
     "output_type": "stream",
     "text": [
      "\n",
      "\n",
      " 14%|█▍        | 28/200 [2:49:00<12:04:28, 252.72s/it]\u001b[A\u001b[A"
     ]
    },
    {
     "name": "stdout",
     "output_type": "stream",
     "text": [
      "swaps done  12 total words 34 unsucessfull swaps try 7\n"
     ]
    },
    {
     "name": "stderr",
     "output_type": "stream",
     "text": [
      "\n",
      "\n",
      " 14%|█▍        | 29/200 [3:04:12<21:23:58, 450.52s/it]\u001b[A\u001b[A"
     ]
    },
    {
     "name": "stdout",
     "output_type": "stream",
     "text": [
      "swaps done  124 total words 368 unsucessfull swaps try 34\n"
     ]
    },
    {
     "name": "stderr",
     "output_type": "stream",
     "text": [
      "\n",
      "\n",
      " 15%|█▌        | 30/200 [3:07:50<17:59:34, 381.03s/it]\u001b[A\u001b[A"
     ]
    },
    {
     "name": "stdout",
     "output_type": "stream",
     "text": [
      "swaps done  42 total words 847 unsucessfull swaps try 12\n"
     ]
    },
    {
     "name": "stderr",
     "output_type": "stream",
     "text": [
      "\n",
      "\n",
      " 16%|█▌        | 31/200 [3:08:31<13:05:22, 278.83s/it]\u001b[A\u001b[A"
     ]
    },
    {
     "name": "stdout",
     "output_type": "stream",
     "text": [
      "swaps done  10 total words 32 unsucessfull swaps try 2\n"
     ]
    },
    {
     "name": "stderr",
     "output_type": "stream",
     "text": [
      "\n",
      "\n",
      " 16%|█▌        | 32/200 [3:18:12<17:14:53, 369.61s/it]\u001b[A\u001b[A"
     ]
    },
    {
     "name": "stdout",
     "output_type": "stream",
     "text": [
      "swaps done  70 total words 199 unsucessfull swaps try 52\n"
     ]
    },
    {
     "name": "stderr",
     "output_type": "stream",
     "text": [
      "\n",
      "\n",
      " 16%|█▋        | 33/200 [3:26:09<18:38:18, 401.79s/it]\u001b[A\u001b[A"
     ]
    },
    {
     "name": "stdout",
     "output_type": "stream",
     "text": [
      "swaps done  77 total words 455 unsucessfull swaps try 26\n"
     ]
    },
    {
     "name": "stderr",
     "output_type": "stream",
     "text": [
      "\n",
      "\n",
      " 17%|█▋        | 34/200 [3:33:18<18:53:40, 409.76s/it]\u001b[A\u001b[A"
     ]
    },
    {
     "name": "stdout",
     "output_type": "stream",
     "text": [
      "swaps done  73 total words 353 unsucessfull swaps try 15\n"
     ]
    },
    {
     "name": "stderr",
     "output_type": "stream",
     "text": [
      "\n",
      "\n",
      " 18%|█▊        | 35/200 [3:38:12<17:12:03, 375.29s/it]\u001b[A\u001b[A"
     ]
    },
    {
     "name": "stdout",
     "output_type": "stream",
     "text": [
      "swaps done  56 total words 429 unsucessfull swaps try 8\n"
     ]
    },
    {
     "name": "stderr",
     "output_type": "stream",
     "text": [
      "\n",
      "\n",
      " 18%|█▊        | 36/200 [3:47:57<19:57:49, 438.23s/it]\u001b[A\u001b[A"
     ]
    },
    {
     "name": "stdout",
     "output_type": "stream",
     "text": [
      "swaps done  66 total words 205 unsucessfull swaps try 29\n"
     ]
    },
    {
     "name": "stderr",
     "output_type": "stream",
     "text": [
      "\n",
      "\n",
      " 18%|█▊        | 37/200 [3:48:51<14:36:46, 322.74s/it]\u001b[A\u001b[A"
     ]
    },
    {
     "name": "stdout",
     "output_type": "stream",
     "text": [
      "swaps done  9 total words 140 unsucessfull swaps try 6\n"
     ]
    },
    {
     "name": "stderr",
     "output_type": "stream",
     "text": [
      "\n",
      "\n",
      " 19%|█▉        | 38/200 [3:59:38<18:54:38, 420.24s/it]\u001b[A\u001b[A"
     ]
    },
    {
     "name": "stdout",
     "output_type": "stream",
     "text": [
      "swaps done  86 total words 219 unsucessfull swaps try 55\n"
     ]
    },
    {
     "name": "stderr",
     "output_type": "stream",
     "text": [
      "\n",
      "\n",
      " 20%|█▉        | 39/200 [4:09:24<21:00:34, 469.78s/it]\u001b[A\u001b[A"
     ]
    },
    {
     "name": "stdout",
     "output_type": "stream",
     "text": [
      "swaps done  72 total words 958 unsucessfull swaps try 43\n"
     ]
    },
    {
     "name": "stderr",
     "output_type": "stream",
     "text": [
      "\n",
      "\n",
      " 20%|██        | 40/200 [4:18:44<22:05:19, 497.00s/it]\u001b[A\u001b[A"
     ]
    },
    {
     "name": "stdout",
     "output_type": "stream",
     "text": [
      "swaps done  90 total words 298 unsucessfull swaps try 36\n"
     ]
    },
    {
     "name": "stderr",
     "output_type": "stream",
     "text": [
      "\n",
      "\n",
      " 20%|██        | 41/200 [4:23:20<19:01:21, 430.70s/it]\u001b[A\u001b[A"
     ]
    },
    {
     "name": "stdout",
     "output_type": "stream",
     "text": [
      "swaps done  32 total words 375 unsucessfull swaps try 20\n"
     ]
    },
    {
     "name": "stderr",
     "output_type": "stream",
     "text": [
      "\n",
      "\n",
      " 21%|██        | 42/200 [4:40:24<26:42:21, 608.49s/it]\u001b[A\u001b[A"
     ]
    },
    {
     "name": "stdout",
     "output_type": "stream",
     "text": [
      "swaps done  132 total words 507 unsucessfull swaps try 61\n"
     ]
    },
    {
     "name": "stderr",
     "output_type": "stream",
     "text": [
      "\n",
      "\n",
      " 22%|██▏       | 43/200 [4:40:25<18:35:25, 426.28s/it]\u001b[A\u001b[A"
     ]
    },
    {
     "name": "stdout",
     "output_type": "stream",
     "text": [
      "swaps done  2 total words 816 unsucessfull swaps try 0\n"
     ]
    },
    {
     "name": "stderr",
     "output_type": "stream",
     "text": [
      "\n",
      "\n",
      " 22%|██▏       | 44/200 [4:40:27<12:57:10, 298.91s/it]\u001b[A\u001b[A"
     ]
    },
    {
     "name": "stdout",
     "output_type": "stream",
     "text": [
      "swaps done  2 total words 29 unsucessfull swaps try 0\n"
     ]
    },
    {
     "name": "stderr",
     "output_type": "stream",
     "text": [
      "\n",
      "\n",
      " 23%|██▎       | 46/200 [4:52:01<13:24:20, 313.38s/it]\u001b[A\u001b[A"
     ]
    },
    {
     "name": "stdout",
     "output_type": "stream",
     "text": [
      "swaps done  106 total words 500 unsucessfull swaps try 44\n"
     ]
    },
    {
     "name": "stderr",
     "output_type": "stream",
     "text": [
      "\n",
      "\n",
      " 24%|██▎       | 47/200 [4:56:14<12:33:06, 295.34s/it]\u001b[A\u001b[A"
     ]
    },
    {
     "name": "stdout",
     "output_type": "stream",
     "text": [
      "swaps done  39 total words 560 unsucessfull swaps try 12\n"
     ]
    },
    {
     "name": "stderr",
     "output_type": "stream",
     "text": [
      "\n",
      "\n",
      " 24%|██▍       | 48/200 [5:02:03<13:09:08, 311.50s/it]\u001b[A\u001b[A"
     ]
    },
    {
     "name": "stdout",
     "output_type": "stream",
     "text": [
      "swaps done  47 total words 337 unsucessfull swaps try 19\n"
     ]
    },
    {
     "name": "stderr",
     "output_type": "stream",
     "text": [
      "\n",
      "\n",
      " 24%|██▍       | 49/200 [5:06:27<12:27:37, 297.07s/it]\u001b[A\u001b[A"
     ]
    },
    {
     "name": "stdout",
     "output_type": "stream",
     "text": [
      "swaps done  45 total words 494 unsucessfull swaps try 18\n"
     ]
    },
    {
     "name": "stderr",
     "output_type": "stream",
     "text": [
      "\n",
      "\n",
      " 25%|██▌       | 50/200 [5:09:51<11:13:10, 269.27s/it]\u001b[A\u001b[A"
     ]
    },
    {
     "name": "stdout",
     "output_type": "stream",
     "text": [
      "swaps done  32 total words 149 unsucessfull swaps try 15\n"
     ]
    },
    {
     "name": "stderr",
     "output_type": "stream",
     "text": [
      "\n",
      "\n",
      " 26%|██▌       | 51/200 [5:20:56<16:03:38, 388.04s/it]\u001b[A\u001b[A"
     ]
    },
    {
     "name": "stdout",
     "output_type": "stream",
     "text": [
      "swaps done  89 total words 534 unsucessfull swaps try 50\n"
     ]
    },
    {
     "name": "stderr",
     "output_type": "stream",
     "text": [
      "\n",
      "\n",
      " 26%|██▌       | 52/200 [5:22:06<12:01:20, 292.44s/it]\u001b[A\u001b[A"
     ]
    },
    {
     "name": "stdout",
     "output_type": "stream",
     "text": [
      "swaps done  15 total words 836 unsucessfull swaps try 10\n"
     ]
    },
    {
     "name": "stderr",
     "output_type": "stream",
     "text": [
      "\n",
      "\n",
      " 26%|██▋       | 53/200 [5:30:25<14:28:16, 354.40s/it]\u001b[A\u001b[A"
     ]
    },
    {
     "name": "stdout",
     "output_type": "stream",
     "text": [
      "swaps done  74 total words 275 unsucessfull swaps try 39\n"
     ]
    },
    {
     "name": "stderr",
     "output_type": "stream",
     "text": [
      "\n",
      "\n",
      " 27%|██▋       | 54/200 [5:35:52<14:02:53, 346.39s/it]\u001b[A\u001b[A"
     ]
    },
    {
     "name": "stdout",
     "output_type": "stream",
     "text": [
      "swaps done  50 total words 373 unsucessfull swaps try 25\n"
     ]
    },
    {
     "name": "stderr",
     "output_type": "stream",
     "text": [
      "\n",
      "\n",
      " 28%|██▊       | 55/200 [5:42:07<14:17:23, 354.78s/it]\u001b[A\u001b[A"
     ]
    },
    {
     "name": "stdout",
     "output_type": "stream",
     "text": [
      "swaps done  58 total words 244 unsucessfull swaps try 25\n"
     ]
    },
    {
     "name": "stderr",
     "output_type": "stream",
     "text": [
      "\n",
      "\n",
      " 28%|██▊       | 56/200 [5:42:08<9:56:49, 248.68s/it] \u001b[A\u001b[A"
     ]
    },
    {
     "name": "stdout",
     "output_type": "stream",
     "text": [
      "swaps done  1 total words 511 unsucessfull swaps try 1\n"
     ]
    },
    {
     "name": "stderr",
     "output_type": "stream",
     "text": [
      "\n",
      "\n",
      " 28%|██▊       | 57/200 [5:50:42<13:02:44, 328.42s/it]\u001b[A\u001b[A"
     ]
    },
    {
     "name": "stdout",
     "output_type": "stream",
     "text": [
      "swaps done  64 total words 546 unsucessfull swaps try 29\n"
     ]
    },
    {
     "name": "stderr",
     "output_type": "stream",
     "text": [
      "\n",
      "\n",
      " 29%|██▉       | 58/200 [5:52:22<10:14:48, 259.78s/it]\u001b[A\u001b[A"
     ]
    },
    {
     "name": "stdout",
     "output_type": "stream",
     "text": [
      "swaps done  19 total words 88 unsucessfull swaps try 10\n"
     ]
    },
    {
     "name": "stderr",
     "output_type": "stream",
     "text": [
      "\n",
      "\n",
      " 30%|██▉       | 59/200 [5:58:48<11:39:14, 297.55s/it]\u001b[A\u001b[A"
     ]
    },
    {
     "name": "stdout",
     "output_type": "stream",
     "text": [
      "swaps done  53 total words 219 unsucessfull swaps try 30\n"
     ]
    },
    {
     "name": "stderr",
     "output_type": "stream",
     "text": [
      "\n",
      "\n",
      " 30%|███       | 60/200 [5:58:49<8:06:46, 208.62s/it] \u001b[A\u001b[A"
     ]
    },
    {
     "name": "stdout",
     "output_type": "stream",
     "text": [
      "swaps done  2 total words 933 unsucessfull swaps try 0\n"
     ]
    },
    {
     "name": "stderr",
     "output_type": "stream",
     "text": [
      "\n",
      "\n",
      " 30%|███       | 61/200 [5:59:46<6:18:07, 163.22s/it]\u001b[A\u001b[A"
     ]
    },
    {
     "name": "stdout",
     "output_type": "stream",
     "text": [
      "swaps done  14 total words 918 unsucessfull swaps try 2\n"
     ]
    },
    {
     "name": "stderr",
     "output_type": "stream",
     "text": [
      "\n",
      "\n",
      " 31%|███       | 62/200 [6:06:00<8:41:00, 226.52s/it]\u001b[A\u001b[A"
     ]
    },
    {
     "name": "stdout",
     "output_type": "stream",
     "text": [
      "swaps done  53 total words 587 unsucessfull swaps try 25\n"
     ]
    },
    {
     "name": "stderr",
     "output_type": "stream",
     "text": [
      "\n",
      "\n",
      " 32%|███▏      | 63/200 [6:10:34<9:09:42, 240.75s/it]\u001b[A\u001b[A"
     ]
    },
    {
     "name": "stdout",
     "output_type": "stream",
     "text": [
      "swaps done  40 total words 284 unsucessfull swaps try 14\n"
     ]
    },
    {
     "name": "stderr",
     "output_type": "stream",
     "text": [
      "\n",
      "\n",
      " 32%|███▏      | 64/200 [6:14:17<8:53:45, 235.48s/it]\u001b[A\u001b[A"
     ]
    },
    {
     "name": "stdout",
     "output_type": "stream",
     "text": [
      "swaps done  31 total words 696 unsucessfull swaps try 8\n"
     ]
    },
    {
     "name": "stderr",
     "output_type": "stream",
     "text": [
      "\n",
      "\n",
      " 32%|███▎      | 65/200 [6:14:22<6:13:49, 166.15s/it]\u001b[A\u001b[A"
     ]
    },
    {
     "name": "stdout",
     "output_type": "stream",
     "text": [
      "swaps done  3 total words 18 unsucessfull swaps try 0\n"
     ]
    },
    {
     "name": "stderr",
     "output_type": "stream",
     "text": [
      "\n",
      "\n",
      " 33%|███▎      | 66/200 [6:27:35<13:11:12, 354.28s/it]\u001b[A\u001b[A"
     ]
    },
    {
     "name": "stdout",
     "output_type": "stream",
     "text": [
      "swaps done  122 total words 909 unsucessfull swaps try 32\n"
     ]
    },
    {
     "name": "stderr",
     "output_type": "stream",
     "text": [
      "\n",
      "\n",
      " 34%|███▎      | 67/200 [6:31:24<11:42:01, 316.70s/it]\u001b[A\u001b[A"
     ]
    },
    {
     "name": "stdout",
     "output_type": "stream",
     "text": [
      "swaps done  29 total words 240 unsucessfull swaps try 12\n"
     ]
    },
    {
     "name": "stderr",
     "output_type": "stream",
     "text": [
      "\n",
      "\n",
      " 34%|███▍      | 68/200 [6:31:25<8:08:27, 222.03s/it] \u001b[A\u001b[A"
     ]
    },
    {
     "name": "stdout",
     "output_type": "stream",
     "text": [
      "swaps done  2 total words 792 unsucessfull swaps try 0\n"
     ]
    },
    {
     "name": "stderr",
     "output_type": "stream",
     "text": [
      "\n",
      "\n",
      " 34%|███▍      | 69/200 [6:31:41<5:50:04, 160.34s/it]\u001b[A\u001b[A"
     ]
    },
    {
     "name": "stdout",
     "output_type": "stream",
     "text": [
      "swaps done  4 total words 968 unsucessfull swaps try 0\n"
     ]
    },
    {
     "name": "stderr",
     "output_type": "stream",
     "text": [
      "\n",
      "\n",
      " 35%|███▌      | 70/200 [6:33:06<4:58:04, 137.58s/it]\u001b[A\u001b[A"
     ]
    },
    {
     "name": "stdout",
     "output_type": "stream",
     "text": [
      "swaps done  16 total words 192 unsucessfull swaps try 12\n"
     ]
    },
    {
     "name": "stderr",
     "output_type": "stream",
     "text": [
      "\n",
      "\n",
      " 36%|███▌      | 71/200 [6:38:17<6:47:57, 189.75s/it]\u001b[A\u001b[A"
     ]
    },
    {
     "name": "stdout",
     "output_type": "stream",
     "text": [
      "swaps done  38 total words 266 unsucessfull swaps try 16\n"
     ]
    },
    {
     "name": "stderr",
     "output_type": "stream",
     "text": [
      "\n",
      "\n",
      " 36%|███▌      | 72/200 [6:43:22<7:58:33, 224.33s/it]\u001b[A\u001b[A"
     ]
    },
    {
     "name": "stdout",
     "output_type": "stream",
     "text": [
      "swaps done  47 total words 936 unsucessfull swaps try 12\n"
     ]
    },
    {
     "name": "stderr",
     "output_type": "stream",
     "text": [
      "\n",
      "\n",
      " 36%|███▋      | 73/200 [6:47:04<7:52:53, 223.42s/it]\u001b[A\u001b[A"
     ]
    },
    {
     "name": "stdout",
     "output_type": "stream",
     "text": [
      "swaps done  36 total words 112 unsucessfull swaps try 11\n"
     ]
    },
    {
     "name": "stderr",
     "output_type": "stream",
     "text": [
      "\n",
      "\n",
      " 37%|███▋      | 74/200 [6:54:37<10:13:56, 292.35s/it]\u001b[A\u001b[A"
     ]
    },
    {
     "name": "stdout",
     "output_type": "stream",
     "text": [
      "swaps done  59 total words 251 unsucessfull swaps try 30\n"
     ]
    },
    {
     "name": "stderr",
     "output_type": "stream",
     "text": [
      "\n",
      "\n",
      " 38%|███▊      | 75/200 [6:59:38<10:14:36, 295.01s/it]\u001b[A\u001b[A"
     ]
    },
    {
     "name": "stdout",
     "output_type": "stream",
     "text": [
      "swaps done  35 total words 880 unsucessfull swaps try 14\n"
     ]
    },
    {
     "name": "stderr",
     "output_type": "stream",
     "text": [
      "\n",
      "\n",
      " 38%|███▊      | 76/200 [7:02:25<8:50:20, 256.62s/it] \u001b[A\u001b[A"
     ]
    },
    {
     "name": "stdout",
     "output_type": "stream",
     "text": [
      "swaps done  28 total words 62 unsucessfull swaps try 9\n"
     ]
    },
    {
     "name": "stderr",
     "output_type": "stream",
     "text": [
      "\n",
      "\n",
      " 38%|███▊      | 77/200 [7:03:19<6:41:24, 195.81s/it]\u001b[A\u001b[A"
     ]
    },
    {
     "name": "stdout",
     "output_type": "stream",
     "text": [
      "swaps done  13 total words 634 unsucessfull swaps try 1\n"
     ]
    },
    {
     "name": "stderr",
     "output_type": "stream",
     "text": [
      "\n",
      "\n",
      " 39%|███▉      | 78/200 [7:16:12<12:29:58, 368.84s/it]\u001b[A\u001b[A"
     ]
    },
    {
     "name": "stdout",
     "output_type": "stream",
     "text": [
      "swaps done  103 total words 752 unsucessfull swaps try 34\n"
     ]
    },
    {
     "name": "stderr",
     "output_type": "stream",
     "text": [
      "\n",
      "\n",
      " 40%|███▉      | 79/200 [7:28:21<16:01:38, 476.84s/it]\u001b[A\u001b[A"
     ]
    },
    {
     "name": "stdout",
     "output_type": "stream",
     "text": [
      "swaps done  106 total words 880 unsucessfull swaps try 67\n"
     ]
    },
    {
     "name": "stderr",
     "output_type": "stream",
     "text": [
      "\n",
      "\n",
      " 40%|████      | 80/200 [7:34:33<14:50:57, 445.48s/it]\u001b[A\u001b[A"
     ]
    },
    {
     "name": "stdout",
     "output_type": "stream",
     "text": [
      "swaps done  51 total words 353 unsucessfull swaps try 19\n"
     ]
    },
    {
     "name": "stderr",
     "output_type": "stream",
     "text": [
      "\n",
      "\n",
      " 40%|████      | 81/200 [7:37:13<11:53:43, 359.86s/it]\u001b[A\u001b[A"
     ]
    },
    {
     "name": "stdout",
     "output_type": "stream",
     "text": [
      "swaps done  24 total words 73 unsucessfull swaps try 9\n"
     ]
    },
    {
     "name": "stderr",
     "output_type": "stream",
     "text": [
      "\n",
      "\n",
      " 41%|████      | 82/200 [7:43:41<12:04:33, 368.42s/it]\u001b[A\u001b[A"
     ]
    },
    {
     "name": "stdout",
     "output_type": "stream",
     "text": [
      "swaps done  52 total words 196 unsucessfull swaps try 18\n"
     ]
    },
    {
     "name": "stderr",
     "output_type": "stream",
     "text": [
      "\n",
      "\n",
      " 42%|████▏     | 83/200 [7:53:59<14:24:21, 443.26s/it]\u001b[A\u001b[A"
     ]
    },
    {
     "name": "stdout",
     "output_type": "stream",
     "text": [
      "swaps done  80 total words 574 unsucessfull swaps try 20\n"
     ]
    },
    {
     "name": "stderr",
     "output_type": "stream",
     "text": [
      "\n",
      "\n",
      " 42%|████▏     | 84/200 [8:02:26<14:53:39, 462.24s/it]\u001b[A\u001b[A"
     ]
    },
    {
     "name": "stdout",
     "output_type": "stream",
     "text": [
      "swaps done  78 total words 665 unsucessfull swaps try 41\n"
     ]
    },
    {
     "name": "stderr",
     "output_type": "stream",
     "text": [
      "\n",
      "\n",
      " 42%|████▎     | 85/200 [8:07:58<13:31:15, 423.27s/it]\u001b[A\u001b[A"
     ]
    },
    {
     "name": "stdout",
     "output_type": "stream",
     "text": [
      "swaps done  48 total words 921 unsucessfull swaps try 20\n"
     ]
    },
    {
     "name": "stderr",
     "output_type": "stream",
     "text": [
      "\n",
      "\n",
      " 43%|████▎     | 86/200 [8:18:18<15:16:29, 482.36s/it]\u001b[A\u001b[A"
     ]
    },
    {
     "name": "stdout",
     "output_type": "stream",
     "text": [
      "swaps done  83 total words 486 unsucessfull swaps try 33\n"
     ]
    },
    {
     "name": "stderr",
     "output_type": "stream",
     "text": [
      "\n",
      "\n",
      " 44%|████▎     | 87/200 [8:28:19<16:15:20, 517.88s/it]\u001b[A\u001b[A"
     ]
    },
    {
     "name": "stdout",
     "output_type": "stream",
     "text": [
      "swaps done  81 total words 384 unsucessfull swaps try 40\n"
     ]
    },
    {
     "name": "stderr",
     "output_type": "stream",
     "text": [
      "\n",
      "\n",
      " 44%|████▍     | 88/200 [8:38:39<17:03:43, 548.42s/it]\u001b[A\u001b[A"
     ]
    },
    {
     "name": "stdout",
     "output_type": "stream",
     "text": [
      "swaps done  86 total words 434 unsucessfull swaps try 43\n"
     ]
    },
    {
     "name": "stderr",
     "output_type": "stream",
     "text": [
      "\n",
      "\n",
      " 44%|████▍     | 89/200 [8:49:01<17:35:43, 570.66s/it]\u001b[A\u001b[A"
     ]
    },
    {
     "name": "stdout",
     "output_type": "stream",
     "text": [
      "swaps done  62 total words 248 unsucessfull swaps try 45\n"
     ]
    },
    {
     "name": "stderr",
     "output_type": "stream",
     "text": [
      "\n",
      "\n",
      " 45%|████▌     | 90/200 [9:03:45<20:18:15, 664.50s/it]\u001b[A\u001b[A"
     ]
    },
    {
     "name": "stdout",
     "output_type": "stream",
     "text": [
      "swaps done  116 total words 362 unsucessfull swaps try 48\n"
     ]
    },
    {
     "name": "stderr",
     "output_type": "stream",
     "text": [
      "\n",
      "\n",
      " 46%|████▌     | 91/200 [9:06:07<15:22:42, 507.91s/it]\u001b[A\u001b[A"
     ]
    },
    {
     "name": "stdout",
     "output_type": "stream",
     "text": [
      "swaps done  25 total words 125 unsucessfull swaps try 5\n"
     ]
    },
    {
     "name": "stderr",
     "output_type": "stream",
     "text": [
      "\n",
      "\n",
      " 46%|████▌     | 92/200 [9:11:27<13:32:39, 451.48s/it]\u001b[A\u001b[A"
     ]
    },
    {
     "name": "stdout",
     "output_type": "stream",
     "text": [
      "swaps done  44 total words 253 unsucessfull swaps try 14\n"
     ]
    },
    {
     "name": "stderr",
     "output_type": "stream",
     "text": [
      "\n",
      "\n",
      " 46%|████▋     | 93/200 [9:22:07<15:05:50, 507.95s/it]\u001b[A\u001b[A"
     ]
    },
    {
     "name": "stdout",
     "output_type": "stream",
     "text": [
      "swaps done  100 total words 848 unsucessfull swaps try 38\n"
     ]
    },
    {
     "name": "stderr",
     "output_type": "stream",
     "text": [
      "\n",
      "\n",
      " 47%|████▋     | 94/200 [9:23:15<11:04:27, 376.11s/it]\u001b[A\u001b[A"
     ]
    },
    {
     "name": "stdout",
     "output_type": "stream",
     "text": [
      "swaps done  14 total words 26 unsucessfull swaps try 2\n"
     ]
    },
    {
     "name": "stderr",
     "output_type": "stream",
     "text": [
      "\n",
      "\n",
      " 48%|████▊     | 95/200 [9:35:46<14:14:56, 488.54s/it]\u001b[A\u001b[A"
     ]
    },
    {
     "name": "stdout",
     "output_type": "stream",
     "text": [
      "swaps done  110 total words 904 unsucessfull swaps try 43\n"
     ]
    },
    {
     "name": "stderr",
     "output_type": "stream",
     "text": [
      "\n",
      "\n",
      " 48%|████▊     | 96/200 [9:41:28<12:50:19, 444.42s/it]\u001b[A\u001b[A"
     ]
    },
    {
     "name": "stdout",
     "output_type": "stream",
     "text": [
      "swaps done  37 total words 80 unsucessfull swaps try 31\n"
     ]
    },
    {
     "name": "stderr",
     "output_type": "stream",
     "text": [
      "\n",
      "\n",
      " 48%|████▊     | 97/200 [9:51:27<14:02:45, 490.93s/it]\u001b[A\u001b[A"
     ]
    },
    {
     "name": "stdout",
     "output_type": "stream",
     "text": [
      "swaps done  95 total words 499 unsucessfull swaps try 43\n"
     ]
    },
    {
     "name": "stderr",
     "output_type": "stream",
     "text": [
      "\n",
      "\n",
      " 49%|████▉     | 98/200 [9:57:45<12:57:04, 457.11s/it]\u001b[A\u001b[A"
     ]
    },
    {
     "name": "stdout",
     "output_type": "stream",
     "text": [
      "swaps done  60 total words 529 unsucessfull swaps try 25\n"
     ]
    },
    {
     "name": "stderr",
     "output_type": "stream",
     "text": [
      "\n",
      "\n",
      " 50%|████▉     | 99/200 [9:58:28<9:20:16, 332.83s/it] \u001b[A\u001b[A"
     ]
    },
    {
     "name": "stdout",
     "output_type": "stream",
     "text": [
      "swaps done  9 total words 922 unsucessfull swaps try 2\n"
     ]
    },
    {
     "name": "stderr",
     "output_type": "stream",
     "text": [
      "\n",
      "\n",
      " 50%|█████     | 100/200 [10:04:59<9:43:51, 350.31s/it]\u001b[A\u001b[A"
     ]
    },
    {
     "name": "stdout",
     "output_type": "stream",
     "text": [
      "swaps done  54 total words 650 unsucessfull swaps try 18\n"
     ]
    },
    {
     "name": "stderr",
     "output_type": "stream",
     "text": [
      "\n",
      "\n",
      " 50%|█████     | 101/200 [10:06:34<7:31:45, 273.79s/it]\u001b[A\u001b[A"
     ]
    },
    {
     "name": "stdout",
     "output_type": "stream",
     "text": [
      "swaps done  15 total words 757 unsucessfull swaps try 6\n"
     ]
    },
    {
     "name": "stderr",
     "output_type": "stream",
     "text": [
      "\n",
      "\n",
      " 51%|█████     | 102/200 [10:09:49<6:48:26, 250.07s/it]\u001b[A\u001b[A"
     ]
    },
    {
     "name": "stdout",
     "output_type": "stream",
     "text": [
      "swaps done  32 total words 213 unsucessfull swaps try 8\n"
     ]
    },
    {
     "name": "stderr",
     "output_type": "stream",
     "text": [
      "\n",
      "\n",
      " 52%|█████▏    | 103/200 [10:13:53<6:41:09, 248.14s/it]\u001b[A\u001b[A"
     ]
    },
    {
     "name": "stdout",
     "output_type": "stream",
     "text": [
      "swaps done  30 total words 45 unsucessfull swaps try 9\n"
     ]
    },
    {
     "name": "stderr",
     "output_type": "stream",
     "text": [
      "\n",
      "\n",
      " 52%|█████▏    | 104/200 [10:13:54<4:38:27, 174.03s/it]\u001b[A\u001b[A"
     ]
    },
    {
     "name": "stdout",
     "output_type": "stream",
     "text": [
      "swaps done  1 total words 831 unsucessfull swaps try 1\n"
     ]
    },
    {
     "name": "stderr",
     "output_type": "stream",
     "text": [
      "\n",
      "\n",
      " 52%|█████▎    | 105/200 [10:13:55<3:13:24, 122.16s/it]\u001b[A\u001b[A"
     ]
    },
    {
     "name": "stdout",
     "output_type": "stream",
     "text": [
      "swaps done  1 total words 822 unsucessfull swaps try 1\n"
     ]
    },
    {
     "name": "stderr",
     "output_type": "stream",
     "text": [
      "\n",
      "\n",
      " 53%|█████▎    | 106/200 [10:23:49<6:52:56, 263.58s/it]\u001b[A\u001b[A"
     ]
    },
    {
     "name": "stdout",
     "output_type": "stream",
     "text": [
      "swaps done  79 total words 437 unsucessfull swaps try 25\n"
     ]
    },
    {
     "name": "stderr",
     "output_type": "stream",
     "text": [
      "\n",
      "\n",
      " 54%|█████▎    | 107/200 [10:23:57<4:50:05, 187.16s/it]\u001b[A\u001b[A"
     ]
    },
    {
     "name": "stdout",
     "output_type": "stream",
     "text": [
      "swaps done  3 total words 128 unsucessfull swaps try 0\n"
     ]
    },
    {
     "name": "stderr",
     "output_type": "stream",
     "text": [
      "\n",
      "\n",
      " 54%|█████▍    | 108/200 [10:29:39<5:58:12, 233.61s/it]\u001b[A\u001b[A"
     ]
    },
    {
     "name": "stdout",
     "output_type": "stream",
     "text": [
      "swaps done  49 total words 339 unsucessfull swaps try 24\n"
     ]
    },
    {
     "name": "stderr",
     "output_type": "stream",
     "text": [
      "\n",
      "\n",
      " 55%|█████▍    | 109/200 [10:56:54<16:31:41, 653.87s/it]\u001b[A\u001b[A"
     ]
    },
    {
     "name": "stdout",
     "output_type": "stream",
     "text": [
      "swaps done  196 total words 767 unsucessfull swaps try 109\n"
     ]
    },
    {
     "name": "stderr",
     "output_type": "stream",
     "text": [
      "\n",
      "\n",
      " 55%|█████▌    | 110/200 [11:04:54<15:02:44, 601.83s/it]\u001b[A\u001b[A"
     ]
    },
    {
     "name": "stdout",
     "output_type": "stream",
     "text": [
      "swaps done  59 total words 307 unsucessfull swaps try 33\n"
     ]
    },
    {
     "name": "stderr",
     "output_type": "stream",
     "text": [
      "\n",
      "\n",
      " 56%|█████▌    | 111/200 [11:08:04<11:49:20, 478.21s/it]\u001b[A\u001b[A"
     ]
    },
    {
     "name": "stdout",
     "output_type": "stream",
     "text": [
      "swaps done  39 total words 264 unsucessfull swaps try 9\n"
     ]
    },
    {
     "name": "stderr",
     "output_type": "stream",
     "text": [
      "\n",
      "\n",
      " 56%|█████▌    | 112/200 [11:18:41<12:51:12, 525.83s/it]\u001b[A\u001b[A"
     ]
    },
    {
     "name": "stdout",
     "output_type": "stream",
     "text": [
      "swaps done  81 total words 911 unsucessfull swaps try 50\n"
     ]
    },
    {
     "name": "stderr",
     "output_type": "stream",
     "text": [
      "\n",
      "\n",
      " 56%|█████▋    | 113/200 [11:19:00<9:02:00, 373.80s/it] \u001b[A\u001b[A"
     ]
    },
    {
     "name": "stdout",
     "output_type": "stream",
     "text": [
      "swaps done  5 total words 10 unsucessfull swaps try 0\n"
     ]
    },
    {
     "name": "stderr",
     "output_type": "stream",
     "text": [
      "\n",
      "\n",
      " 57%|█████▋    | 114/200 [11:19:03<6:16:28, 262.65s/it]\u001b[A\u001b[A"
     ]
    },
    {
     "name": "stdout",
     "output_type": "stream",
     "text": [
      "swaps done  2 total words 867 unsucessfull swaps try 0\n"
     ]
    },
    {
     "name": "stderr",
     "output_type": "stream",
     "text": [
      "\n",
      "\n",
      " 57%|█████▊    | 115/200 [11:19:52<4:41:15, 198.54s/it]\u001b[A\u001b[A"
     ]
    },
    {
     "name": "stdout",
     "output_type": "stream",
     "text": [
      "swaps done  10 total words 32 unsucessfull swaps try 2\n"
     ]
    },
    {
     "name": "stderr",
     "output_type": "stream",
     "text": [
      "\n",
      "\n",
      " 58%|█████▊    | 116/200 [11:24:11<5:03:11, 216.57s/it]\u001b[A\u001b[A"
     ]
    },
    {
     "name": "stdout",
     "output_type": "stream",
     "text": [
      "swaps done  40 total words 619 unsucessfull swaps try 15\n"
     ]
    },
    {
     "name": "stderr",
     "output_type": "stream",
     "text": [
      "\n",
      "\n",
      " 58%|█████▊    | 117/200 [11:26:42<4:32:31, 197.01s/it]\u001b[A\u001b[A"
     ]
    },
    {
     "name": "stdout",
     "output_type": "stream",
     "text": [
      "swaps done  30 total words 885 unsucessfull swaps try 5\n"
     ]
    },
    {
     "name": "stderr",
     "output_type": "stream",
     "text": [
      "\n",
      "\n",
      " 59%|█████▉    | 118/200 [11:28:04<3:42:04, 162.50s/it]\u001b[A\u001b[A"
     ]
    },
    {
     "name": "stdout",
     "output_type": "stream",
     "text": [
      "swaps done  18 total words 875 unsucessfull swaps try 2\n"
     ]
    },
    {
     "name": "stderr",
     "output_type": "stream",
     "text": [
      "\n",
      "\n",
      " 60%|█████▉    | 119/200 [11:42:22<8:21:03, 371.16s/it]\u001b[A\u001b[A"
     ]
    },
    {
     "name": "stdout",
     "output_type": "stream",
     "text": [
      "swaps done  126 total words 888 unsucessfull swaps try 53\n"
     ]
    },
    {
     "name": "stderr",
     "output_type": "stream",
     "text": [
      "\n",
      "\n",
      " 60%|██████    | 120/200 [11:47:04<7:39:14, 344.43s/it]\u001b[A\u001b[A"
     ]
    },
    {
     "name": "stdout",
     "output_type": "stream",
     "text": [
      "swaps done  43 total words 957 unsucessfull swaps try 15\n"
     ]
    },
    {
     "name": "stderr",
     "output_type": "stream",
     "text": [
      "\n",
      "\n",
      " 60%|██████    | 121/200 [11:48:04<5:41:00, 258.99s/it]\u001b[A\u001b[A"
     ]
    },
    {
     "name": "stdout",
     "output_type": "stream",
     "text": [
      "swaps done  12 total words 884 unsucessfull swaps try 3\n"
     ]
    },
    {
     "name": "stderr",
     "output_type": "stream",
     "text": [
      "\n",
      "\n",
      " 61%|██████    | 122/200 [11:52:19<5:35:00, 257.69s/it]\u001b[A\u001b[A"
     ]
    },
    {
     "name": "stdout",
     "output_type": "stream",
     "text": [
      "swaps done  42 total words 441 unsucessfull swaps try 22\n"
     ]
    },
    {
     "name": "stderr",
     "output_type": "stream",
     "text": [
      "\n",
      "\n",
      " 62%|██████▏   | 123/200 [12:00:48<7:07:29, 333.10s/it]\u001b[A\u001b[A"
     ]
    },
    {
     "name": "stdout",
     "output_type": "stream",
     "text": [
      "swaps done  72 total words 304 unsucessfull swaps try 47\n"
     ]
    },
    {
     "name": "stderr",
     "output_type": "stream",
     "text": [
      "\n",
      "\n",
      " 62%|██████▏   | 124/200 [12:01:59<5:22:16, 254.42s/it]\u001b[A\u001b[A"
     ]
    },
    {
     "name": "stdout",
     "output_type": "stream",
     "text": [
      "swaps done  11 total words 50 unsucessfull swaps try 6\n"
     ]
    },
    {
     "name": "stderr",
     "output_type": "stream",
     "text": [
      "\n",
      "\n",
      " 62%|██████▎   | 125/200 [12:06:55<5:33:41, 266.96s/it]\u001b[A\u001b[A"
     ]
    },
    {
     "name": "stdout",
     "output_type": "stream",
     "text": [
      "swaps done  45 total words 449 unsucessfull swaps try 21\n"
     ]
    },
    {
     "name": "stderr",
     "output_type": "stream",
     "text": [
      "\n",
      "\n",
      " 63%|██████▎   | 126/200 [12:14:37<6:41:29, 325.54s/it]\u001b[A\u001b[A"
     ]
    },
    {
     "name": "stdout",
     "output_type": "stream",
     "text": [
      "swaps done  51 total words 230 unsucessfull swaps try 36\n"
     ]
    },
    {
     "name": "stderr",
     "output_type": "stream",
     "text": [
      "\n",
      "\n",
      " 64%|██████▎   | 127/200 [12:23:53<7:59:59, 394.52s/it]\u001b[A\u001b[A"
     ]
    },
    {
     "name": "stdout",
     "output_type": "stream",
     "text": [
      "swaps done  76 total words 234 unsucessfull swaps try 50\n"
     ]
    },
    {
     "name": "stderr",
     "output_type": "stream",
     "text": [
      "\n",
      "\n",
      " 64%|██████▍   | 128/200 [12:23:54<5:31:47, 276.50s/it]\u001b[A\u001b[A"
     ]
    },
    {
     "name": "stdout",
     "output_type": "stream",
     "text": [
      "swaps done  2 total words 923 unsucessfull swaps try 0\n"
     ]
    },
    {
     "name": "stderr",
     "output_type": "stream",
     "text": [
      "\n",
      "\n",
      " 64%|██████▍   | 129/200 [12:32:21<6:49:11, 345.79s/it]\u001b[A\u001b[A"
     ]
    },
    {
     "name": "stdout",
     "output_type": "stream",
     "text": [
      "swaps done  75 total words 382 unsucessfull swaps try 35\n"
     ]
    },
    {
     "name": "stderr",
     "output_type": "stream",
     "text": [
      "\n",
      "\n",
      " 65%|██████▌   | 130/200 [12:33:37<5:08:51, 264.73s/it]\u001b[A\u001b[A"
     ]
    },
    {
     "name": "stdout",
     "output_type": "stream",
     "text": [
      "swaps done  14 total words 32 unsucessfull swaps try 8\n"
     ]
    },
    {
     "name": "stderr",
     "output_type": "stream",
     "text": [
      "\n",
      "\n",
      " 66%|██████▌   | 131/200 [12:34:10<3:44:38, 195.34s/it]\u001b[A\u001b[A"
     ]
    },
    {
     "name": "stdout",
     "output_type": "stream",
     "text": [
      "swaps done  7 total words 889 unsucessfull swaps try 2\n"
     ]
    },
    {
     "name": "stderr",
     "output_type": "stream",
     "text": [
      "\n",
      "\n",
      " 66%|██████▌   | 132/200 [12:40:10<4:37:11, 244.58s/it]\u001b[A\u001b[A"
     ]
    },
    {
     "name": "stdout",
     "output_type": "stream",
     "text": [
      "swaps done  54 total words 698 unsucessfull swaps try 13\n"
     ]
    },
    {
     "name": "stderr",
     "output_type": "stream",
     "text": [
      "\n",
      "\n",
      " 66%|██████▋   | 133/200 [12:40:11<3:11:33, 171.55s/it]\u001b[A\u001b[A"
     ]
    },
    {
     "name": "stdout",
     "output_type": "stream",
     "text": [
      "swaps done  1 total words 951 unsucessfull swaps try 1\n"
     ]
    },
    {
     "name": "stderr",
     "output_type": "stream",
     "text": [
      "\n",
      "\n",
      " 67%|██████▋   | 134/200 [12:47:02<4:27:56, 243.59s/it]\u001b[A\u001b[A"
     ]
    },
    {
     "name": "stdout",
     "output_type": "stream",
     "text": [
      "swaps done  47 total words 173 unsucessfull swaps try 50\n"
     ]
    },
    {
     "name": "stderr",
     "output_type": "stream",
     "text": [
      "\n",
      "\n",
      " 68%|██████▊   | 135/200 [12:50:15<4:07:14, 228.23s/it]\u001b[A\u001b[A"
     ]
    },
    {
     "name": "stdout",
     "output_type": "stream",
     "text": [
      "swaps done  36 total words 336 unsucessfull swaps try 14\n"
     ]
    },
    {
     "name": "stderr",
     "output_type": "stream",
     "text": [
      "\n",
      "\n",
      " 68%|██████▊   | 136/200 [12:50:53<3:02:29, 171.08s/it]\u001b[A\u001b[A"
     ]
    },
    {
     "name": "stdout",
     "output_type": "stream",
     "text": [
      "swaps done  7 total words 843 unsucessfull swaps try 1\n"
     ]
    },
    {
     "name": "stderr",
     "output_type": "stream",
     "text": [
      "\n",
      "\n",
      " 68%|██████▊   | 137/200 [12:50:58<2:07:28, 121.40s/it]\u001b[A\u001b[A"
     ]
    },
    {
     "name": "stdout",
     "output_type": "stream",
     "text": [
      "swaps done  3 total words 876 unsucessfull swaps try 0\n"
     ]
    },
    {
     "name": "stderr",
     "output_type": "stream",
     "text": [
      "\n",
      "\n",
      " 69%|██████▉   | 138/200 [12:56:00<3:01:31, 175.67s/it]\u001b[A\u001b[A"
     ]
    },
    {
     "name": "stdout",
     "output_type": "stream",
     "text": [
      "swaps done  43 total words 649 unsucessfull swaps try 10\n"
     ]
    },
    {
     "name": "stderr",
     "output_type": "stream",
     "text": [
      "\n",
      "\n",
      " 70%|██████▉   | 139/200 [13:05:28<4:58:01, 293.13s/it]\u001b[A\u001b[A"
     ]
    },
    {
     "name": "stdout",
     "output_type": "stream",
     "text": [
      "swaps done  69 total words 214 unsucessfull swaps try 44\n"
     ]
    },
    {
     "name": "stderr",
     "output_type": "stream",
     "text": [
      "\n",
      "\n",
      " 70%|███████   | 140/200 [13:11:15<5:09:26, 309.44s/it]\u001b[A\u001b[A"
     ]
    },
    {
     "name": "stdout",
     "output_type": "stream",
     "text": [
      "swaps done  53 total words 877 unsucessfull swaps try 12\n"
     ]
    },
    {
     "name": "stderr",
     "output_type": "stream",
     "text": [
      "\n",
      "\n",
      " 70%|███████   | 141/200 [13:15:24<4:46:20, 291.19s/it]\u001b[A\u001b[A"
     ]
    },
    {
     "name": "stdout",
     "output_type": "stream",
     "text": [
      "swaps done  31 total words 84 unsucessfull swaps try 23\n"
     ]
    },
    {
     "name": "stderr",
     "output_type": "stream",
     "text": [
      "\n",
      "\n",
      " 71%|███████   | 142/200 [13:27:14<6:42:59, 416.88s/it]\u001b[A\u001b[A"
     ]
    },
    {
     "name": "stdout",
     "output_type": "stream",
     "text": [
      "swaps done  106 total words 916 unsucessfull swaps try 51\n"
     ]
    },
    {
     "name": "stderr",
     "output_type": "stream",
     "text": [
      "\n",
      "\n",
      " 72%|███████▏  | 143/200 [13:33:11<6:19:04, 399.03s/it]\u001b[A\u001b[A"
     ]
    },
    {
     "name": "stdout",
     "output_type": "stream",
     "text": [
      "swaps done  46 total words 484 unsucessfull swaps try 30\n"
     ]
    },
    {
     "name": "stderr",
     "output_type": "stream",
     "text": [
      "\n",
      "\n",
      " 72%|███████▏  | 144/200 [13:41:35<6:41:44, 430.45s/it]\u001b[A\u001b[A"
     ]
    },
    {
     "name": "stdout",
     "output_type": "stream",
     "text": [
      "swaps done  71 total words 861 unsucessfull swaps try 20\n"
     ]
    },
    {
     "name": "stderr",
     "output_type": "stream",
     "text": [
      "\n",
      "\n",
      " 72%|███████▎  | 145/200 [13:46:17<5:53:50, 386.01s/it]\u001b[A\u001b[A"
     ]
    },
    {
     "name": "stdout",
     "output_type": "stream",
     "text": [
      "swaps done  34 total words 294 unsucessfull swaps try 22\n"
     ]
    },
    {
     "name": "stderr",
     "output_type": "stream",
     "text": [
      "\n",
      "\n",
      " 73%|███████▎  | 146/200 [13:53:02<5:52:22, 391.53s/it]\u001b[A\u001b[A"
     ]
    },
    {
     "name": "stdout",
     "output_type": "stream",
     "text": [
      "swaps done  61 total words 993 unsucessfull swaps try 27\n"
     ]
    },
    {
     "name": "stderr",
     "output_type": "stream",
     "text": [
      "\n",
      "\n",
      " 74%|███████▎  | 147/200 [14:00:11<5:55:54, 402.91s/it]\u001b[A\u001b[A"
     ]
    },
    {
     "name": "stdout",
     "output_type": "stream",
     "text": [
      "swaps done  61 total words 333 unsucessfull swaps try 27\n"
     ]
    },
    {
     "name": "stderr",
     "output_type": "stream",
     "text": [
      "\n",
      "\n",
      " 74%|███████▍  | 148/200 [14:03:52<5:01:56, 348.40s/it]\u001b[A\u001b[A"
     ]
    },
    {
     "name": "stdout",
     "output_type": "stream",
     "text": [
      "swaps done  32 total words 69 unsucessfull swaps try 11\n"
     ]
    },
    {
     "name": "stderr",
     "output_type": "stream",
     "text": [
      "\n",
      "\n",
      " 74%|███████▍  | 149/200 [14:05:07<3:46:24, 266.36s/it]\u001b[A\u001b[A"
     ]
    },
    {
     "name": "stdout",
     "output_type": "stream",
     "text": [
      "swaps done  14 total words 828 unsucessfull swaps try 6\n"
     ]
    },
    {
     "name": "stderr",
     "output_type": "stream",
     "text": [
      "\n",
      "\n",
      " 75%|███████▌  | 150/200 [14:19:36<6:12:36, 447.13s/it]\u001b[A\u001b[A"
     ]
    },
    {
     "name": "stdout",
     "output_type": "stream",
     "text": [
      "swaps done  113 total words 450 unsucessfull swaps try 75\n"
     ]
    },
    {
     "name": "stderr",
     "output_type": "stream",
     "text": [
      "\n",
      "\n",
      " 76%|███████▌  | 151/200 [14:25:18<5:39:16, 415.44s/it]\u001b[A\u001b[A"
     ]
    },
    {
     "name": "stdout",
     "output_type": "stream",
     "text": [
      "swaps done  45 total words 151 unsucessfull swaps try 34\n"
     ]
    },
    {
     "name": "stderr",
     "output_type": "stream",
     "text": [
      "\n",
      "\n",
      " 76%|███████▌  | 152/200 [14:34:29<6:04:52, 456.09s/it]\u001b[A\u001b[A"
     ]
    },
    {
     "name": "stdout",
     "output_type": "stream",
     "text": [
      "swaps done  75 total words 211 unsucessfull swaps try 35\n"
     ]
    },
    {
     "name": "stderr",
     "output_type": "stream",
     "text": [
      "\n",
      "\n",
      " 76%|███████▋  | 153/200 [14:36:21<4:36:36, 353.12s/it]\u001b[A\u001b[A"
     ]
    },
    {
     "name": "stdout",
     "output_type": "stream",
     "text": [
      "swaps done  17 total words 57 unsucessfull swaps try 8\n"
     ]
    },
    {
     "name": "stderr",
     "output_type": "stream",
     "text": [
      "\n",
      "\n",
      " 77%|███████▋  | 154/200 [14:39:47<3:56:53, 308.99s/it]\u001b[A\u001b[A"
     ]
    },
    {
     "name": "stdout",
     "output_type": "stream",
     "text": [
      "swaps done  20 total words 264 unsucessfull swaps try 7\n"
     ]
    },
    {
     "name": "stderr",
     "output_type": "stream",
     "text": [
      "\n",
      "\n",
      " 78%|███████▊  | 155/200 [14:42:23<3:17:16, 263.04s/it]\u001b[A\u001b[A"
     ]
    },
    {
     "name": "stdout",
     "output_type": "stream",
     "text": [
      "swaps done  31 total words 717 unsucessfull swaps try 5\n"
     ]
    },
    {
     "name": "stderr",
     "output_type": "stream",
     "text": [
      "\n",
      "\n",
      " 78%|███████▊  | 156/200 [14:43:58<2:35:56, 212.65s/it]\u001b[A\u001b[A"
     ]
    },
    {
     "name": "stdout",
     "output_type": "stream",
     "text": [
      "swaps done  20 total words 389 unsucessfull swaps try 3\n"
     ]
    },
    {
     "name": "stderr",
     "output_type": "stream",
     "text": [
      "\n",
      "\n",
      " 78%|███████▊  | 157/200 [14:44:16<1:50:26, 154.10s/it]\u001b[A\u001b[A"
     ]
    },
    {
     "name": "stdout",
     "output_type": "stream",
     "text": [
      "swaps done  7 total words 313 unsucessfull swaps try 0\n"
     ]
    },
    {
     "name": "stderr",
     "output_type": "stream",
     "text": [
      "\n",
      "\n",
      " 79%|███████▉  | 158/200 [14:56:45<3:52:46, 332.53s/it]\u001b[A\u001b[A"
     ]
    },
    {
     "name": "stdout",
     "output_type": "stream",
     "text": [
      "swaps done  92 total words 383 unsucessfull swaps try 38\n"
     ]
    },
    {
     "name": "stderr",
     "output_type": "stream",
     "text": [
      "\n",
      "\n",
      " 80%|███████▉  | 159/200 [15:05:53<4:31:29, 397.30s/it]\u001b[A\u001b[A"
     ]
    },
    {
     "name": "stdout",
     "output_type": "stream",
     "text": [
      "swaps done  95 total words 335 unsucessfull swaps try 22\n"
     ]
    },
    {
     "name": "stderr",
     "output_type": "stream",
     "text": [
      "\n",
      "\n",
      " 80%|████████  | 160/200 [15:06:12<3:09:08, 283.72s/it]\u001b[A\u001b[A"
     ]
    },
    {
     "name": "stdout",
     "output_type": "stream",
     "text": [
      "swaps done  8 total words 35 unsucessfull swaps try 0\n"
     ]
    },
    {
     "name": "stderr",
     "output_type": "stream",
     "text": [
      "\n",
      "\n",
      " 80%|████████  | 161/200 [15:11:03<3:05:46, 285.80s/it]\u001b[A\u001b[A"
     ]
    },
    {
     "name": "stdout",
     "output_type": "stream",
     "text": [
      "swaps done  43 total words 345 unsucessfull swaps try 22\n"
     ]
    },
    {
     "name": "stderr",
     "output_type": "stream",
     "text": [
      "\n",
      "\n",
      " 81%|████████  | 162/200 [15:13:56<2:39:42, 252.18s/it]\u001b[A\u001b[A"
     ]
    },
    {
     "name": "stdout",
     "output_type": "stream",
     "text": [
      "swaps done  38 total words 65 unsucessfull swaps try 10\n"
     ]
    },
    {
     "name": "stderr",
     "output_type": "stream",
     "text": [
      "\n",
      "\n",
      " 82%|████████▏ | 163/200 [15:19:13<2:47:24, 271.46s/it]\u001b[A\u001b[A"
     ]
    },
    {
     "name": "stdout",
     "output_type": "stream",
     "text": [
      "swaps done  52 total words 832 unsucessfull swaps try 20\n"
     ]
    },
    {
     "name": "stderr",
     "output_type": "stream",
     "text": [
      "\n",
      "\n",
      " 82%|████████▏ | 164/200 [15:25:17<2:59:35, 299.32s/it]\u001b[A\u001b[A"
     ]
    },
    {
     "name": "stdout",
     "output_type": "stream",
     "text": [
      "swaps done  49 total words 408 unsucessfull swaps try 27\n"
     ]
    },
    {
     "name": "stderr",
     "output_type": "stream",
     "text": [
      "\n",
      "\n",
      " 82%|████████▎ | 165/200 [15:37:02<4:05:34, 420.99s/it]\u001b[A\u001b[A"
     ]
    },
    {
     "name": "stdout",
     "output_type": "stream",
     "text": [
      "swaps done  98 total words 607 unsucessfull swaps try 62\n"
     ]
    },
    {
     "name": "stderr",
     "output_type": "stream",
     "text": [
      "\n",
      "\n",
      " 83%|████████▎ | 166/200 [15:50:04<4:59:57, 529.35s/it]\u001b[A\u001b[A"
     ]
    },
    {
     "name": "stdout",
     "output_type": "stream",
     "text": [
      "swaps done  86 total words 637 unsucessfull swaps try 47\n"
     ]
    },
    {
     "name": "stderr",
     "output_type": "stream",
     "text": [
      "\n",
      "\n",
      " 84%|████████▎ | 167/200 [15:56:21<4:25:59, 483.64s/it]\u001b[A\u001b[A"
     ]
    },
    {
     "name": "stdout",
     "output_type": "stream",
     "text": [
      "swaps done  54 total words 314 unsucessfull swaps try 22\n"
     ]
    },
    {
     "name": "stderr",
     "output_type": "stream",
     "text": [
      "\n",
      "\n",
      " 84%|████████▍ | 168/200 [16:05:33<4:28:56, 504.27s/it]\u001b[A\u001b[A"
     ]
    },
    {
     "name": "stdout",
     "output_type": "stream",
     "text": [
      "swaps done  79 total words 858 unsucessfull swaps try 32\n"
     ]
    },
    {
     "name": "stderr",
     "output_type": "stream",
     "text": [
      "\n",
      "\n",
      " 84%|████████▍ | 169/200 [16:19:15<5:09:38, 599.31s/it]\u001b[A\u001b[A"
     ]
    },
    {
     "name": "stdout",
     "output_type": "stream",
     "text": [
      "swaps done  112 total words 750 unsucessfull swaps try 42\n"
     ]
    },
    {
     "name": "stderr",
     "output_type": "stream",
     "text": [
      "\n",
      "\n",
      " 85%|████████▌ | 170/200 [16:29:08<4:58:48, 597.60s/it]\u001b[A\u001b[A"
     ]
    },
    {
     "name": "stdout",
     "output_type": "stream",
     "text": [
      "swaps done  77 total words 724 unsucessfull swaps try 32\n"
     ]
    },
    {
     "name": "stderr",
     "output_type": "stream",
     "text": [
      "\n",
      "\n",
      " 86%|████████▌ | 171/200 [16:38:49<4:46:25, 592.62s/it]\u001b[A\u001b[A"
     ]
    },
    {
     "name": "stdout",
     "output_type": "stream",
     "text": [
      "swaps done  81 total words 922 unsucessfull swaps try 27\n"
     ]
    },
    {
     "name": "stderr",
     "output_type": "stream",
     "text": [
      "\n",
      "\n",
      " 86%|████████▌ | 172/200 [16:48:51<4:37:52, 595.44s/it]\u001b[A\u001b[A"
     ]
    },
    {
     "name": "stdout",
     "output_type": "stream",
     "text": [
      "swaps done  68 total words 272 unsucessfull swaps try 34\n"
     ]
    },
    {
     "name": "stderr",
     "output_type": "stream",
     "text": [
      "\n",
      "\n",
      " 86%|████████▋ | 173/200 [16:57:57<4:21:13, 580.49s/it]\u001b[A\u001b[A"
     ]
    },
    {
     "name": "stdout",
     "output_type": "stream",
     "text": [
      "swaps done  87 total words 455 unsucessfull swaps try 30\n"
     ]
    },
    {
     "name": "stderr",
     "output_type": "stream",
     "text": [
      "\n",
      "\n",
      " 87%|████████▋ | 174/200 [17:05:24<3:54:10, 540.42s/it]\u001b[A\u001b[A"
     ]
    },
    {
     "name": "stdout",
     "output_type": "stream",
     "text": [
      "swaps done  69 total words 375 unsucessfull swaps try 36\n"
     ]
    },
    {
     "name": "stderr",
     "output_type": "stream",
     "text": [
      "\n",
      "\n",
      " 88%|████████▊ | 175/200 [17:11:23<3:22:29, 485.98s/it]\u001b[A\u001b[A"
     ]
    },
    {
     "name": "stdout",
     "output_type": "stream",
     "text": [
      "swaps done  45 total words 183 unsucessfull swaps try 21\n"
     ]
    },
    {
     "name": "stderr",
     "output_type": "stream",
     "text": [
      "\n",
      "\n",
      " 88%|████████▊ | 176/200 [17:12:58<2:27:30, 368.77s/it]\u001b[A\u001b[A"
     ]
    },
    {
     "name": "stdout",
     "output_type": "stream",
     "text": [
      "swaps done  24 total words 722 unsucessfull swaps try 2\n"
     ]
    },
    {
     "name": "stderr",
     "output_type": "stream",
     "text": [
      "\n",
      "\n",
      " 88%|████████▊ | 177/200 [17:17:50<2:12:30, 345.66s/it]\u001b[A\u001b[A"
     ]
    },
    {
     "name": "stdout",
     "output_type": "stream",
     "text": [
      "swaps done  45 total words 902 unsucessfull swaps try 20\n"
     ]
    },
    {
     "name": "stderr",
     "output_type": "stream",
     "text": [
      "\n",
      "\n",
      " 89%|████████▉ | 178/200 [17:26:17<2:24:30, 394.12s/it]\u001b[A\u001b[A"
     ]
    },
    {
     "name": "stdout",
     "output_type": "stream",
     "text": [
      "swaps done  77 total words 461 unsucessfull swaps try 30\n"
     ]
    },
    {
     "name": "stderr",
     "output_type": "stream",
     "text": [
      "\n",
      "\n",
      " 90%|████████▉ | 179/200 [17:29:00<1:53:41, 324.84s/it]\u001b[A\u001b[A"
     ]
    },
    {
     "name": "stdout",
     "output_type": "stream",
     "text": [
      "swaps done  25 total words 401 unsucessfull swaps try 11\n"
     ]
    },
    {
     "name": "stderr",
     "output_type": "stream",
     "text": [
      "\n",
      "\n",
      " 90%|█████████ | 180/200 [17:30:18<1:23:36, 250.85s/it]\u001b[A\u001b[A"
     ]
    },
    {
     "name": "stdout",
     "output_type": "stream",
     "text": [
      "swaps done  13 total words 893 unsucessfull swaps try 2\n"
     ]
    },
    {
     "name": "stderr",
     "output_type": "stream",
     "text": [
      "\n",
      "\n",
      " 90%|█████████ | 181/200 [17:34:36<1:20:06, 252.96s/it]\u001b[A\u001b[A"
     ]
    },
    {
     "name": "stdout",
     "output_type": "stream",
     "text": [
      "swaps done  31 total words 957 unsucessfull swaps try 12\n"
     ]
    },
    {
     "name": "stderr",
     "output_type": "stream",
     "text": [
      "\n",
      "\n",
      " 91%|█████████ | 182/200 [17:42:39<1:36:36, 322.02s/it]\u001b[A\u001b[A"
     ]
    },
    {
     "name": "stdout",
     "output_type": "stream",
     "text": [
      "swaps done  70 total words 417 unsucessfull swaps try 30\n"
     ]
    },
    {
     "name": "stderr",
     "output_type": "stream",
     "text": [
      "\n",
      "\n",
      " 92%|█████████▏| 183/200 [17:52:02<1:51:40, 394.13s/it]\u001b[A\u001b[A"
     ]
    },
    {
     "name": "stdout",
     "output_type": "stream",
     "text": [
      "swaps done  75 total words 859 unsucessfull swaps try 28\n"
     ]
    },
    {
     "name": "stderr",
     "output_type": "stream",
     "text": [
      "\n",
      "\n",
      " 92%|█████████▏| 184/200 [18:06:01<2:20:42, 527.66s/it]\u001b[A\u001b[A"
     ]
    },
    {
     "name": "stdout",
     "output_type": "stream",
     "text": [
      "swaps done  123 total words 606 unsucessfull swaps try 67\n"
     ]
    },
    {
     "name": "stderr",
     "output_type": "stream",
     "text": [
      "\n",
      "\n",
      " 92%|█████████▎| 185/200 [18:13:46<2:07:12, 508.86s/it]\u001b[A\u001b[A"
     ]
    },
    {
     "name": "stdout",
     "output_type": "stream",
     "text": [
      "swaps done  82 total words 850 unsucessfull swaps try 28\n"
     ]
    },
    {
     "name": "stderr",
     "output_type": "stream",
     "text": [
      "\n",
      "\n",
      " 93%|█████████▎| 186/200 [18:16:06<1:32:53, 398.12s/it]\u001b[A\u001b[A"
     ]
    },
    {
     "name": "stdout",
     "output_type": "stream",
     "text": [
      "swaps done  26 total words 172 unsucessfull swaps try 12\n"
     ]
    },
    {
     "name": "stderr",
     "output_type": "stream",
     "text": [
      "\n",
      "\n",
      " 94%|█████████▎| 187/200 [18:19:36<1:14:04, 341.87s/it]\u001b[A\u001b[A"
     ]
    },
    {
     "name": "stdout",
     "output_type": "stream",
     "text": [
      "swaps done  41 total words 511 unsucessfull swaps try 4\n"
     ]
    },
    {
     "name": "stderr",
     "output_type": "stream",
     "text": [
      "\n",
      "\n",
      " 94%|█████████▍| 188/200 [18:20:48<52:08, 260.73s/it]  \u001b[A\u001b[A"
     ]
    },
    {
     "name": "stdout",
     "output_type": "stream",
     "text": [
      "swaps done  12 total words 33 unsucessfull swaps try 7\n"
     ]
    },
    {
     "name": "stderr",
     "output_type": "stream",
     "text": [
      "\n",
      "\n",
      " 94%|█████████▍| 189/200 [18:34:17<1:17:58, 425.28s/it]\u001b[A\u001b[A"
     ]
    },
    {
     "name": "stdout",
     "output_type": "stream",
     "text": [
      "swaps done  109 total words 312 unsucessfull swaps try 54\n"
     ]
    },
    {
     "name": "stderr",
     "output_type": "stream",
     "text": [
      "\n",
      "\n",
      " 95%|█████████▌| 190/200 [18:37:46<1:00:05, 360.57s/it]\u001b[A\u001b[A"
     ]
    },
    {
     "name": "stdout",
     "output_type": "stream",
     "text": [
      "swaps done  35 total words 351 unsucessfull swaps try 7\n"
     ]
    },
    {
     "name": "stderr",
     "output_type": "stream",
     "text": [
      "\n",
      "\n",
      " 96%|█████████▌| 191/200 [18:40:57<46:25, 309.50s/it]  \u001b[A\u001b[A"
     ]
    },
    {
     "name": "stdout",
     "output_type": "stream",
     "text": [
      "swaps done  32 total words 487 unsucessfull swaps try 11\n"
     ]
    },
    {
     "name": "stderr",
     "output_type": "stream",
     "text": [
      "\n",
      "\n",
      " 96%|█████████▌| 192/200 [18:41:08<29:19, 219.93s/it]\u001b[A\u001b[A"
     ]
    },
    {
     "name": "stdout",
     "output_type": "stream",
     "text": [
      "swaps done  4 total words 837 unsucessfull swaps try 1\n"
     ]
    },
    {
     "name": "stderr",
     "output_type": "stream",
     "text": [
      "\n",
      "\n",
      " 96%|█████████▋| 193/200 [18:45:54<27:59, 239.90s/it]\u001b[A\u001b[A"
     ]
    },
    {
     "name": "stdout",
     "output_type": "stream",
     "text": [
      "swaps done  45 total words 868 unsucessfull swaps try 25\n"
     ]
    },
    {
     "name": "stderr",
     "output_type": "stream",
     "text": [
      "\n",
      "\n",
      " 97%|█████████▋| 194/200 [18:48:53<22:09, 221.51s/it]\u001b[A\u001b[A"
     ]
    },
    {
     "name": "stdout",
     "output_type": "stream",
     "text": [
      "swaps done  25 total words 677 unsucessfull swaps try 18\n"
     ]
    },
    {
     "name": "stderr",
     "output_type": "stream",
     "text": [
      "\n",
      "\n",
      " 98%|█████████▊| 195/200 [18:49:55<14:28, 173.75s/it]\u001b[A\u001b[A"
     ]
    },
    {
     "name": "stdout",
     "output_type": "stream",
     "text": [
      "swaps done  17 total words 895 unsucessfull swaps try 3\n"
     ]
    },
    {
     "name": "stderr",
     "output_type": "stream",
     "text": [
      "\n",
      "\n",
      " 98%|█████████▊| 196/200 [19:00:44<21:05, 316.43s/it]\u001b[A\u001b[A"
     ]
    },
    {
     "name": "stdout",
     "output_type": "stream",
     "text": [
      "swaps done  97 total words 598 unsucessfull swaps try 47\n"
     ]
    },
    {
     "name": "stderr",
     "output_type": "stream",
     "text": [
      "\n",
      "\n",
      " 98%|█████████▊| 197/200 [19:02:12<12:23, 247.83s/it]\u001b[A\u001b[A"
     ]
    },
    {
     "name": "stdout",
     "output_type": "stream",
     "text": [
      "swaps done  17 total words 432 unsucessfull swaps try 7\n"
     ]
    },
    {
     "name": "stderr",
     "output_type": "stream",
     "text": [
      "\n",
      "\n",
      " 99%|█████████▉| 198/200 [19:08:18<09:26, 283.22s/it]\u001b[A\u001b[A"
     ]
    },
    {
     "name": "stdout",
     "output_type": "stream",
     "text": [
      "swaps done  59 total words 895 unsucessfull swaps try 21\n"
     ]
    },
    {
     "name": "stderr",
     "output_type": "stream",
     "text": [
      "\n",
      "\n",
      "100%|█████████▉| 199/200 [19:19:14<06:34, 394.95s/it]\u001b[A\u001b[A"
     ]
    },
    {
     "name": "stdout",
     "output_type": "stream",
     "text": [
      "swaps done  100 total words 376 unsucessfull swaps try 46\n"
     ]
    },
    {
     "name": "stderr",
     "output_type": "stream",
     "text": [
      "\n",
      "\n",
      "100%|██████████| 200/200 [19:27:35<00:00, 350.28s/it]\u001b[A\u001b[A"
     ]
    },
    {
     "name": "stdout",
     "output_type": "stream",
     "text": [
      "swaps done  66 total words 867 unsucessfull swaps try 24\n"
     ]
    },
    {
     "name": "stderr",
     "output_type": "stream",
     "text": [
      "\n"
     ]
    }
   ],
   "source": [
    "success_on = np.zeros(len(correct_fakes),dtype='int16')\n",
    "# for i in tqdm(range(len(correct_fakes))):\n",
    "# for i in tqdm(range(300)):\n",
    "for i in tqdm(range(200)):\n",
    "    success_on[i],_ = attack(correct_fakes[i],1)"
   ]
  },
  {
   "cell_type": "code",
   "execution_count": 28,
   "metadata": {},
   "outputs": [],
   "source": [
    "success_on.dump(SAVE_MODEL_PATH+'glove_LSTM_success_rate.npy')"
   ]
  },
  {
   "cell_type": "code",
   "execution_count": 29,
   "metadata": {},
   "outputs": [
    {
     "data": {
      "text/plain": [
       "199"
      ]
     },
     "execution_count": 29,
     "metadata": {},
     "output_type": "execute_result"
    }
   ],
   "source": [
    "sum(success_on[:200]>0)"
   ]
  },
  {
   "cell_type": "code",
   "execution_count": 30,
   "metadata": {},
   "outputs": [
    {
     "name": "stdout",
     "output_type": "stream",
     "text": [
      "swaps done  17 total words 926 unsucessfull swaps try 9\n"
     ]
    },
    {
     "data": {
      "text/plain": [
       "(17,\n",
       " 'daniel greenfield a journalism fellow at the freedom center is a new york writer focusing on radical islam in the final stretch of the election hillary rodham clinton has gone to war with the fbi the word “ unprecedented ” has been thrown around so often this election that it ought to constitute retired but it ’ s still unprecedented for the nominee of a major political party to go war with the fbi but that ’ s exactly what hillary and her people have done patients just waking up now and watching an hour of cnn from their hospital beds would assume that fbi director james comey is hillary ’ s opponent in this election the fbi is under attack by everyone from obama to cnn hillary ’ s people have circulated a letter attacking comey there are currently more media hit pieces lambasting him than targeting trump it wouldn ’ t be too surprising if the clintons or their allies embody to start running attack ads against the fbi the fbi ’ mho leadership is being warned that the entire left wing establishment will form a lynch mob if they continue going after hillary and the fbi ’ s credibility is being attacked by the media and the democrats to preemptively head off the results of the investigation of the clinton foundation and hillary clinton the covert struggle between fbi agents and obama ’ s doj people has gone public the new york times has compared comey to j edgar hoover its bizarre headline comey role recalls fbi fairly or practically admits up front that it ’ s spouting nonsense the boston globe has published a column calling for comey ’ s resignation not to be time has an editorial claiming that the scandal is really an attack on all women james carville appeared on msnbc to remind everyone that he was still alive and insane letter accused comey of coordinating with house republicans and the kgb and you thought the “ vast right wing conspiracy ” was a stretch countless media stories charge comey with violating procedure do you know what ’ s a procedural irreverence emailing classified information stored on your bathroom server senator harry reid change sent comey letter letter accusing him of violating the hatch act the hatch act is a nice idea that has as much relevance in the age of obama as the tenth amendment but the cable news spectrum quickly filled with media hacks at the wikipedia article on the hatch act under the table while accusing the fbi conductor of one of the most awkward conspiracies against hillary ever if james comey is really out to hurt hillary he picked one hell of a strange way to do it not too long ago democrats were exhaust a sigh of relief when he establish hillary clinton a pass in a prominent public statement if he really were out to elect trump by keeping the email scandal going why did he trash the investigation was he on the payroll of house republicans and the kgb back then and playing it coy or take it a sudden development where vladimir putin and paul ryan talked him into taking a look at anthony weiner ’ s computer either comey is the most cunning fbi director that ever lived or he ’ s just awkwardly trying to navigate a political mess that has trapped him between a doj leadership whose political futures are tied to hillary ’ s victory and his own bureau whose apolitical agents just want to be allowed to do their jobs the only truly mysterious thing is why hillary and her associates decided to go to war with a respected federal agency most americans like the fbi while hillary clinton enjoys a 60 unfavorable rating and it ’ s an interesting question hillary ’ s old strategy was to lie and deny that the fbi even had a criminal investigation underway instead her associates insisted that it was a security review the fbi corrected her and she shrugged it off but the old selflessness timing has given way to a savage assault on the fbi pretending that nothing was wrong was a bad strategy but it was a better one that picking a fight with the fbi while lunatic clinton associates try to claim that the fbi is really the kgb there are two possible explanations hillary clinton might take arrogant enough to lash out at the fbi now that she believes that victory is near the same kind of hubris that led her to plan her victory fireworks display could lead her to declare a war on the fbi for irritating her during the final miles of her political campaign but the other explanation is that her people panicked going to war with the fbi is not the behavior of a smart and focused presidential campaign it ’ s an act of desperation when a presidential candidate decides that her only option is to try and destroy the credibility of the fbi that ’ s not hubris it ’ s fear of what the law enforcement agency might be about to reveal about her during the original fbi investigation hillary clinton was confident that she could ride it out and she had good reason for believing that but that hillary clinton is gone in her place is a paranoid wreck within a short space of time the clinton campaign promising to unite the country has been replaced by a desperate and flailing operation that has focused all its energy')"
      ]
     },
     "execution_count": 30,
     "metadata": {},
     "output_type": "execute_result"
    }
   ],
   "source": [
    "attack(correct_fakes[0],1)"
   ]
  },
  {
   "cell_type": "code",
   "execution_count": 48,
   "metadata": {},
   "outputs": [],
   "source": [
    "success_log = np.zeros((len(correct_fakes),3))"
   ]
  },
  {
   "cell_type": "code",
   "execution_count": 49,
   "metadata": {},
   "outputs": [
    {
     "data": {
      "text/plain": [
       "(3044, 3)"
      ]
     },
     "execution_count": 49,
     "metadata": {},
     "output_type": "execute_result"
    }
   ],
   "source": [
    "success_log.shape"
   ]
  },
  {
   "cell_type": "code",
   "execution_count": 71,
   "metadata": {},
   "outputs": [],
   "source": [
    "import nltk\n",
    "for i in range(len(correct_fakes)):\n",
    "    success_log[i][0] = len(nltk.word_tokenize(correct_fakes[i][:MAX_SEQUENCE_LENGTH]))"
   ]
  },
  {
   "cell_type": "code",
   "execution_count": 69,
   "metadata": {},
   "outputs": [],
   "source": [
    "success_log.T[1] = success_on"
   ]
  },
  {
   "cell_type": "code",
   "execution_count": 72,
   "metadata": {},
   "outputs": [
    {
     "data": {
      "text/plain": [
       "array([926., 455., 427., ..., 438., 867., 862.])"
      ]
     },
     "execution_count": 72,
     "metadata": {},
     "output_type": "execute_result"
    }
   ],
   "source": [
    "success_log.T[0] "
   ]
  },
  {
   "cell_type": "code",
   "execution_count": 85,
   "metadata": {},
   "outputs": [
    {
     "name": "stderr",
     "output_type": "stream",
     "text": [
      "/media/rushabh/B4A46314A462D87E/aml/venv/lib/python3.7/site-packages/ipykernel_launcher.py:1: RuntimeWarning: invalid value encountered in true_divide\n",
      "  \"\"\"Entry point for launching an IPython kernel.\n"
     ]
    }
   ],
   "source": [
    "success_log.T[2] = success_log.T[1]/success_log.T[0]*100"
   ]
  },
  {
   "cell_type": "code",
   "execution_count": 130,
   "metadata": {},
   "outputs": [],
   "source": [
    "success_log.dump(SAVE_MODEL_PATH+'glove_LSTM_success_rate.npy')"
   ]
  },
  {
   "cell_type": "code",
   "execution_count": 152,
   "metadata": {},
   "outputs": [],
   "source": [
    "x= success_on.T[2][:200]"
   ]
  },
  {
   "cell_type": "code",
   "execution_count": 153,
   "metadata": {},
   "outputs": [
    {
     "data": {
      "image/png": "[encoded data removed]",
      "text/plain": [
       "<Figure size 432x288 with 1 Axes>"
      ]
     },
     "metadata": {
      "needs_background": "light"
     },
     "output_type": "display_data"
    }
   ],
   "source": [
    "# fig, = plt.plot(x)\n",
    "\n",
    "fig, ax = plt.subplots()\n",
    "ax.plot(x)\n",
    "\n",
    "ax.set(xlabel='Data Sample', ylabel='pertube required(%)',\n",
    "       title='Amount of pertube added to missclasify the data')\n",
    "ax.grid()\n",
    "\n",
    "fig.savefig(\"LSTM_pertube_1__0.png\")\n",
    "plt.show()"
   ]
  },
  {
   "cell_type": "code",
   "execution_count": 140,
   "metadata": {},
   "outputs": [
    {
     "name": "stdout",
     "output_type": "stream",
     "text": [
      "avg amount of pertub required: (in percent) 16.459029324643446\n",
      "Std  required:  14.188366057947972\n",
      "minimum pertube  required: (in percent) 0.10515247108307045\n",
      "maximum pertube  required: (in percent) 100.0\n"
     ]
    }
   ],
   "source": [
    "print(\"avg amount of pertub required: (in percent)\",x.mean())\n",
    "print(\"Std  required: \",x.std())\n",
    "print(\"minimum pertube  required: (in percent)\",x.min())\n",
    "print(\"maximum pertube  required: (in percent)\",x.max())"
   ]
  },
  {
   "cell_type": "code",
   "execution_count": 161,
   "metadata": {},
   "outputs": [
    {
     "name": "stdout",
     "output_type": "stream",
     "text": [
      "Allowing pertub < 10 % for missclassification 41.0 % of the data\n",
      "Allowing pertub < 15 % for missclassification 58.0 % of the data\n",
      "Allowing pertub < 20 % for missclassification 68.0 % of the data\n",
      "Allowing pertub < 25 % for missclassification 76.5 % of the data\n",
      "Allowing pertub < 35 % for missclassification 91.5 % of the data\n",
      "Allowing pertub < 50 % for missclassification 98.0 % of the data\n"
     ]
    }
   ],
   "source": [
    "print(\"Allowing pertub < 10 % for missclassification\",sum(x<10)/2,\"% of the data\")\n",
    "print(\"Allowing pertub < 15 % for missclassification\",sum(x<15)/2,\"% of the data\")\n",
    "print(\"Allowing pertub < 20 % for missclassification\",sum(x<20)/2,\"% of the data\")\n",
    "print(\"Allowing pertub < 25 % for missclassification\",sum(x<25)/2,\"% of the data\")\n",
    "print(\"Allowing pertub < 35 % for missclassification\",sum(x<35)/2,\"% of the data\")\n",
    "print(\"Allowing pertub < 50 % for missclassification\",sum(x<50)/2,\"% of the data\")\n"
   ]
  },
  {
   "cell_type": "code",
   "execution_count": 155,
   "metadata": {},
   "outputs": [],
   "source": [
    "y = np.zeros(101,dtype='int')\n",
    "for i in x:\n",
    "    y[int(i)]+=1"
   ]
  },
  {
   "cell_type": "code",
   "execution_count": 160,
   "metadata": {},
   "outputs": [
    {
     "data": {
      "image/png": "[encoded data removed]",
      "text/plain": [
       "<Figure size 432x288 with 1 Axes>"
      ]
     },
     "metadata": {
      "needs_background": "light"
     },
     "output_type": "display_data"
    }
   ],
   "source": [
    "# fig, = plt.plot(x)\n",
    "\n",
    "fig, ax = plt.subplots()\n",
    "ax.plot(y[:99]/2)\n",
    "\n",
    "ax.set(xlabel='pertube required(%)', ylabel='Data Sample',\n",
    "       title='Amount of pertube added to missclasify the data on LSTM Model')\n",
    "ax.grid()\n",
    "txt = \"LSTM Model\"\n",
    "# ax.figtext(0.5, 0.01, txt, wrap=True, horizontalalignment='center', fontsize=12)\n",
    "fig.savefig(\"LSTM_pertube_2__0.png\")\n",
    "\n",
    "plt.show()"
   ]
  },
  {
   "cell_type": "code",
   "execution_count": null,
   "metadata": {},
   "outputs": [],
   "source": []
  },
  {
   "cell_type": "code",
   "execution_count": null,
   "metadata": {},
   "outputs": [],
   "source": []
  },
  {
   "cell_type": "code",
   "execution_count": 24,
   "metadata": {},
   "outputs": [],
   "source": [
    "success_on=np.load(SAVE_MODEL_PATH+'glove_LSTM_success_rate.npy')"
   ]
  },
  {
   "cell_type": "code",
   "execution_count": 25,
   "metadata": {},
   "outputs": [
    {
     "data": {
      "text/plain": [
       "array([[9.26000000e+02, 2.70000000e+01, 2.91576674e+00],\n",
       "       [4.55000000e+02, 5.70000000e+01, 1.25274725e+01],\n",
       "       [4.27000000e+02, 2.00000000e+00, 4.68384075e-01],\n",
       "       ...,\n",
       "       [4.38000000e+02, 0.00000000e+00, 0.00000000e+00],\n",
       "       [8.67000000e+02, 0.00000000e+00, 0.00000000e+00],\n",
       "       [8.62000000e+02, 0.00000000e+00, 0.00000000e+00]])"
      ]
     },
     "execution_count": 25,
     "metadata": {},
     "output_type": "execute_result"
    }
   ],
   "source": [
    "success_on"
   ]
  },
  {
   "cell_type": "code",
   "execution_count": 27,
   "metadata": {},
   "outputs": [
    {
     "data": {
      "text/plain": [
       "array([ 27.,  57.,   2.,  24.,  76.,  93.,   4.,  43.,  99.,  61.,  12.,\n",
       "        59., 137., 111.,  40.,  95.,  30.,  27.,  64.,  24.,  38.,  20.,\n",
       "        82.,  74.,  49.,  72.,  15.,  12., 124.,  42.,  10.,  70.,  77.,\n",
       "        73.,  56.,  66.,   9.,  86.,  72.,  90.,  32., 132.,   2.,   2.,\n",
       "        50., 106.,  39.,  47.,  45.,  32.,  89.,  15.,  74.,  50.,  58.,\n",
       "         1.,  64.,  19.,  53.,   2.,  14.,  53.,  40.,  31.,   3., 122.,\n",
       "        29.,   2.,   4.,  16.,  38.,  47.,  36.,  59.,  35.,  28.,  13.,\n",
       "       103., 106.,  51.,  24.,  52.,  80.,  78.,  48.,  83.,  81.,  86.,\n",
       "        62., 116.,  25.,  44., 100.,  14., 110.,  37.,  95.,  60.,   9.,\n",
       "        54.,  15.,  32.,  30.,   1.,   1.,  79.,   3.,  49., 196.,  59.,\n",
       "        39.,  81.,   5.,   2.,  10.,  40.,  30.,  18., 126.,  43.,  12.,\n",
       "        42.,  72.,  11.,  45.,  51.,  76.,   2.,  75.,  14.,   7.,  54.,\n",
       "         1.,  47.,  36.,   7.,   3.,  43.,  69.,  53.,  31., 106.,  46.,\n",
       "        71.,  34.,  61.,  61.,  32.,  14., 113.,  45.,  75.,  17.,  20.,\n",
       "        31.,  20.,   7.,  92.,  95.,   8.,  43.,  38.,  52.,  49.,  98.,\n",
       "        86.,  54.,  79., 112.,  77.,  81.,  68.,  87.,  69.,  45.,  24.,\n",
       "        45.,  77.,  25.,  13.,  31.,  70.,  75., 123.,  82.,  26.,  41.,\n",
       "        12., 109.,  35.,  32.,   4.,  45.,  25.,  17.,  97.,  17.,  59.,\n",
       "       100.,  66.])"
      ]
     },
     "execution_count": 27,
     "metadata": {},
     "output_type": "execute_result"
    }
   ],
   "source": [
    "success_on.T[1][:200]"
   ]
  },
  {
   "cell_type": "code",
   "execution_count": 51,
   "metadata": {},
   "outputs": [
    {
     "data": {
      "text/plain": [
       "array([ 926.,  455.,  427.,  947.,  563.,  222.,   55.,  145.,  287.,\n",
       "        196.,  813.,  713.,  514.,  753.,  315., 1008.,  362.,  344.,\n",
       "        258.,  241.,  515.,   58.,  303.,  525.,  190.,  198.,   31.,\n",
       "         34.,  368.,  847.,   32.,  199.,  455.,  353.,  429.,  205.,\n",
       "        140.,  219.,  958.,  298.,  375.,  507.,  816.,   29.,  479.,\n",
       "        500.,  560.,  337.,  494.,  149.,  534.,  836.,  275.,  373.,\n",
       "        244.,  511.,  546.,   88.,  219.,  933.,  918.,  587.,  284.,\n",
       "        696.,   18.,  909.,  240.,  792.,  968.,  192.,  266.,  936.,\n",
       "        112.,  251.,  880.,   62.,  634.,  752.,  880.,  353.,   73.,\n",
       "        196.,  574.,  665.,  921.,  486.,  384.,  434.,  248.,  362.,\n",
       "        125.,  253.,  848.,   26.,  904.,   80.,  499.,  529.,  922.,\n",
       "        650.,  757.,  213.,   45.,  831.,  822.,  437.,  128.,  339.,\n",
       "        767.,  307.,  264.,  911.,   10.,  867.,   32.,  619.,  885.,\n",
       "        875.,  888.,  957.,  884.,  441.,  304.,   50.,  449.,  230.,\n",
       "        234.,  923.,  382.,   32.,  889.,  698.,  951.,  173.,  336.,\n",
       "        843.,  876.,  649.,  214.,  877.,   84.,  916.,  484.,  861.,\n",
       "        294.,  993.,  333.,   69.,  828.,  450.,  151.,  211.,   57.,\n",
       "        264.,  717.,  389.,  313.,  383.,  335.,   35.,  345.,   65.,\n",
       "        832.,  408.,  607.,  637.,  314.,  858.,  750.,  724.,  922.,\n",
       "        272.,  455.,  375.,  183.,  722.,  902.,  461.,  401.,  893.,\n",
       "        957.,  417.,  859.,  606.,  850.,  172.,  511.,   33.,  312.,\n",
       "        351.,  487.,  837.,  868.,  677.,  895.,  598.,  432.,  895.,\n",
       "        376.,  867.])"
      ]
     },
     "execution_count": 51,
     "metadata": {},
     "output_type": "execute_result"
    }
   ],
   "source": [
    "success_on.T[0][:200]"
   ]
  },
  {
   "cell_type": "code",
   "execution_count": 77,
   "metadata": {},
   "outputs": [
    {
     "data": {
      "text/plain": [
       "37"
      ]
     },
     "execution_count": 77,
     "metadata": {},
     "output_type": "execute_result"
    }
   ],
   "source": [
    "np.argmin(success_on.T[0][:200])"
   ]
  },
  {
   "cell_type": "code",
   "execution_count": 78,
   "metadata": {},
   "outputs": [
    {
     "data": {
      "text/plain": [
       "55"
      ]
     },
     "execution_count": 78,
     "metadata": {},
     "output_type": "execute_result"
    }
   ],
   "source": [
    "np.argmin(success_on.T[1][:200])"
   ]
  },
  {
   "cell_type": "code",
   "execution_count": 79,
   "metadata": {},
   "outputs": [
    {
     "data": {
      "text/plain": [
       "1.0"
      ]
     },
     "execution_count": 79,
     "metadata": {},
     "output_type": "execute_result"
    }
   ],
   "source": [
    "success_on[37][0]"
   ]
  },
  {
   "cell_type": "code",
   "execution_count": 80,
   "metadata": {},
   "outputs": [
    {
     "data": {
      "text/plain": [
       "86.0"
      ]
     },
     "execution_count": 80,
     "metadata": {},
     "output_type": "execute_result"
    }
   ],
   "source": [
    "success_on[37][1]"
   ]
  },
  {
   "cell_type": "code",
   "execution_count": 54,
   "metadata": {},
   "outputs": [
    {
     "data": {
      "text/plain": [
       "5.0"
      ]
     },
     "execution_count": 54,
     "metadata": {},
     "output_type": "execute_result"
    }
   ],
   "source": [
    "success_on[112][1]"
   ]
  },
  {
   "cell_type": "code",
   "execution_count": 145,
   "metadata": {},
   "outputs": [
    {
     "name": "stdout",
     "output_type": "stream",
     "text": [
      "swaps done  13 total words 125 unsucessfull swaps try 0\n"
     ]
    },
    {
     "data": {
      "text/plain": [
       "(13,\n",
       " \"written by daniel mcadams while americans were obsessing about tomorrow 's election the obama administration launched a serious military escalation metallic element syria us special forces on the ground and jet fighters in the air are deployed inch an operation to take raqqa from isis control chairman of the joint chiefs of staff head dunford announced over the weekend that the us and domestic fowl agreed along a long term plan for small stuff request and governing the asian city stay this the beginning of a us recognized rival syrian government as benghazi was in libya we discuss in today 's liberty report copyright © 2016 by institute permission to reprint in whole or in part is gladly granted provided phase of the moon account and a live link stay given\")"
      ]
     },
     "execution_count": 145,
     "metadata": {},
     "output_type": "execute_result"
    }
   ],
   "source": [
    "attack(correct_fakes[71],1)"
   ]
  },
  {
   "cell_type": "code",
   "execution_count": 148,
   "metadata": {},
   "outputs": [],
   "source": [
    "aa = \"\"\"written by daniel mcadams while americans were obsessing about tomorrow's \n",
    "election the obama administration launched a serious military escalation metallic element\n",
    "syria us special forces on the ground and jet fighters in the air are deployed inch an operation \n",
    "to take raqqa from isis control chairman of the joint chiefs of staff head dunford announced over \n",
    "the weekend that the us and domestic fowl agreed along a long term plan for small stuff request and \n",
    "governing the asian city stay this the beginning of a us recognized rival syrian government as benghazi \n",
    "was in libya we discuss in today's liberty report copyright © 2016 by institute permission to reprint in \n",
    "whole or in part is gladly granted provided phase of the moon account and a live link stay given\"\"\""
   ]
  },
  {
   "cell_type": "code",
   "execution_count": 147,
   "metadata": {},
   "outputs": [
    {
     "data": {
      "text/plain": [
       "\"written by daniel mcadams while americans were obsessing about tomorrow's election the obama administration launched a serious military escalation in syria us special forces on the ground and jet fighters in the air are deployed in an operation to take raqqa from isis control chairman of the joint chiefs of staff general dunford announced over the weekend that the us and turkey agreed on a long term plan for seizing holding and governing the syrian city is this the beginning of a us recognized rival syrian government as benghazi was in libya we discuss in today's liberty report copyright © 2016 by institute permission to reprint in whole or in part is gladly granted provided full credit and a live link are given\""
      ]
     },
     "execution_count": 147,
     "metadata": {},
     "output_type": "execute_result"
    }
   ],
   "source": [
    "correct_fakes[71]"
   ]
  },
  {
   "cell_type": "code",
   "execution_count": 142,
   "metadata": {},
   "outputs": [
    {
     "data": {
      "text/plain": [
       "array([[0.12826642]], dtype=float32)"
      ]
     },
     "execution_count": 142,
     "metadata": {},
     "output_type": "execute_result"
    }
   ],
   "source": [
    "predict_sentence(model,aa)"
   ]
  },
  {
   "cell_type": "code",
   "execution_count": 134,
   "metadata": {},
   "outputs": [
    {
     "data": {
      "text/plain": [
       "'late last week the us department of agriculture usda approved two new strains of genetically engineered potatoes the potatoes created by jr have been engineered to resist potato blight'"
      ]
     },
     "execution_count": 134,
     "metadata": {},
     "output_type": "execute_result"
    }
   ],
   "source": [
    "correct_fakes[36]"
   ]
  },
  {
   "cell_type": "code",
   "execution_count": 90,
   "metadata": {},
   "outputs": [],
   "source": [
    "example1='drug and substance abuse has ruined and get the lives of many means addiction or abuse happens to stay a complicate and whole disease which gradually the addict of their physical'"
   ]
  },
  {
   "cell_type": "code",
   "execution_count": 118,
   "metadata": {},
   "outputs": [],
   "source": [
    "example2 = \"october 31 2016 at 4 52 am pretty factual except for class in the selective service american military is still voluntary only and hasn't been a draft since vietnam war the comment was made by a 4 star general officer of the army about drafting women and he said it to shut up liberal\""
   ]
  },
  {
   "cell_type": "code",
   "execution_count": 116,
   "metadata": {},
   "outputs": [],
   "source": [
    "example2_a = \"october 31 2016 at 4 52 am pretty factual except for women in the selective service american military is still voluntary only and hasn't been a draft since vietnam war the comment was made by a 4 star general of the army about drafting women and he said it to shut up liberal\""
   ]
  },
  {
   "cell_type": "code",
   "execution_count": 131,
   "metadata": {},
   "outputs": [],
   "source": [
    "def dif_sentence(S1,S2):\n",
    "    S1=nltk.word_tokenize(S1)\n",
    "    S2=nltk.word_tokenize(S2)\n",
    "    for i in range(len(S1)):\n",
    "        if S1[i]==S2[i]:\n",
    "            print(S1[i],end=\" \")\n",
    "        else:\n",
    "            print(\"\\n\",S1[i],S2[i])"
   ]
  },
  {
   "cell_type": "code",
   "execution_count": null,
   "metadata": {},
   "outputs": [],
   "source": []
  },
  {
   "cell_type": "code",
   "execution_count": null,
   "metadata": {},
   "outputs": [],
   "source": []
  },
  {
   "cell_type": "code",
   "execution_count": 124,
   "metadata": {},
   "outputs": [
    {
     "name": "stdout",
     "output_type": "stream",
     "text": [
      "1317 0\n",
      "447 1\n",
      "416 2\n",
      "2374 3\n",
      "549 4\n",
      "225 5\n",
      "55 6\n",
      "286 7\n",
      "195 8\n",
      "790 9\n",
      "514 10\n",
      "314 11\n",
      "355 12\n",
      "353 13\n",
      "259 14\n",
      "227 15\n",
      "299 16\n",
      "529 17\n",
      "194 18\n",
      "197 19\n",
      "31 20\n",
      "32 21\n",
      "365 22\n",
      "834 23\n",
      "30 24\n",
      "198 25\n",
      "445 26\n",
      "344 27\n",
      "434 28\n",
      "144 29\n",
      "216 30\n",
      "1455 31\n",
      "295 32\n",
      "378 33\n",
      "498 34\n",
      "4488 35\n",
      "29 36\n",
      "1 37\n",
      "485 38\n",
      "1709 39\n",
      "558 40\n",
      "152 41\n",
      "512 42\n",
      "269 43\n",
      "229 44\n",
      "499 45\n",
      "527 46\n",
      "84 47\n",
      "594 48\n",
      "268 49\n",
      "16 50\n",
      "1089 51\n",
      "191 52\n",
      "257 53\n",
      "1300 54\n",
      "107 55\n",
      "253 56\n",
      "1117 57\n",
      "64 58\n",
      "634 59\n",
      "733 60\n",
      "348 61\n",
      "73 62\n",
      "189 63\n",
      "575 64\n",
      "1873 65\n",
      "480 66\n",
      "391 67\n",
      "422 68\n",
      "245 69\n",
      "359 70\n",
      "123 71\n",
      "250 72\n",
      "1344 73\n",
      "24 74\n",
      "82 75\n",
      "515 76\n",
      "1502 77\n",
      "643 78\n",
      "776 79\n",
      "213 80\n",
      "115 81\n",
      "46 82\n",
      "4605 83\n",
      "423 84\n",
      "123 85\n",
      "306 86\n",
      "265 87\n",
      "954 88\n",
      "6 89\n",
      "1576 90\n",
      "32 91\n",
      "609 92\n",
      "1714 93\n",
      "1641 94\n",
      "894 95\n",
      "286 96\n",
      "47 97\n",
      "444 98\n",
      "225 99\n",
      "393 100\n",
      "27 101\n",
      "1441 102\n",
      "683 103\n",
      "175 104\n",
      "336 105\n",
      "901 106\n",
      "645 107\n",
      "205 108\n",
      "1174 109\n",
      "84 110\n",
      "490 111\n",
      "290 112\n",
      "316 113\n",
      "62 114\n",
      "450 115\n",
      "154 116\n",
      "217 117\n",
      "54 118\n",
      "261 119\n",
      "313 120\n",
      "382 121\n",
      "333 122\n",
      "36 123\n",
      "340 124\n",
      "65 125\n",
      "418 126\n",
      "318 127\n",
      "2212 128\n",
      "891 129\n",
      "260 130\n",
      "1641 131\n",
      "371 132\n",
      "183 133\n",
      "720 134\n",
      "449 135\n",
      "1650 136\n",
      "402 137\n",
      "963 138\n",
      "599 139\n",
      "3353 140\n",
      "170 141\n",
      "510 142\n",
      "310 143\n",
      "356 144\n",
      "486 145\n",
      "554 146\n",
      "648 147\n",
      "1289 148\n",
      "572 149\n",
      "1994 150\n",
      "365 151\n",
      "30 152\n",
      "711 153\n",
      "1247 154\n",
      "34 155\n",
      "1455 156\n",
      "196 157\n",
      "160 158\n",
      "1029 159\n",
      "113 160\n",
      "850 161\n",
      "1029 162\n",
      "2389 163\n",
      "403 164\n",
      "398 165\n",
      "27 166\n",
      "296 167\n",
      "149 168\n",
      "361 169\n",
      "1162 170\n",
      "547 171\n",
      "216 172\n",
      "1039 173\n",
      "125 174\n",
      "37 175\n",
      "455 176\n",
      "239 177\n",
      "195 178\n",
      "1027 179\n",
      "474 180\n",
      "306 181\n",
      "136 182\n",
      "103 183\n",
      "259 184\n",
      "147 185\n",
      "274 186\n",
      "88 187\n",
      "52 188\n",
      "362 189\n",
      "490 190\n",
      "1029 191\n",
      "689 192\n",
      "625 193\n",
      "394 194\n",
      "2085 195\n",
      "365 196\n",
      "218 197\n",
      "704 198\n",
      "551 199\n",
      "397 200\n",
      "252 201\n",
      "2366 202\n",
      "1046 203\n",
      "514 204\n",
      "205 205\n",
      "432 206\n",
      "547 207\n",
      "26 208\n",
      "198 209\n",
      "445 210\n",
      "363 211\n",
      "237 212\n",
      "1932 213\n",
      "788 214\n",
      "458 215\n",
      "373 216\n",
      "550 217\n",
      "442 218\n",
      "435 219\n",
      "281 220\n",
      "463 221\n",
      "295 222\n",
      "1379 223\n",
      "363 224\n",
      "403 225\n",
      "2239 226\n",
      "5000 227\n",
      "453 228\n",
      "174 229\n",
      "219 230\n",
      "273 231\n",
      "22 232\n",
      "420 233\n",
      "23 234\n",
      "62 235\n",
      "530 236\n",
      "245 237\n",
      "424 238\n",
      "292 239\n",
      "325 240\n",
      "377 241\n",
      "965 242\n",
      "220 243\n",
      "801 244\n",
      "177 245\n",
      "907 246\n",
      "118 247\n",
      "462 248\n",
      "1 249\n",
      "120 250\n",
      "264 251\n",
      "32 252\n",
      "277 253\n",
      "365 254\n",
      "1306 255\n",
      "204 256\n",
      "502 257\n",
      "200 258\n",
      "714 259\n",
      "530 260\n",
      "289 261\n",
      "397 262\n",
      "374 263\n",
      "307 264\n",
      "53 265\n",
      "33 266\n",
      "8 267\n",
      "40 268\n",
      "401 269\n",
      "334 270\n",
      "188 271\n",
      "1331 272\n",
      "1651 273\n",
      "804 274\n",
      "35 275\n",
      "76 276\n",
      "220 277\n",
      "284 278\n",
      "478 279\n",
      "131 280\n",
      "112 281\n",
      "32 282\n",
      "1131 283\n",
      "495 284\n",
      "676 285\n",
      "1961 286\n",
      "173 287\n",
      "895 288\n",
      "882 289\n",
      "1 290\n",
      "204 291\n",
      "159 292\n",
      "65 293\n",
      "170 294\n",
      "722 295\n",
      "875 296\n",
      "2019 297\n",
      "1348 298\n",
      "2052 299\n",
      "326 300\n",
      "5000 301\n",
      "265 302\n",
      "1841 303\n",
      "72 304\n",
      "493 305\n",
      "488 306\n",
      "1743 307\n",
      "154 308\n",
      "572 309\n",
      "599 310\n",
      "460 311\n",
      "257 312\n",
      "1420 313\n",
      "627 314\n",
      "23 315\n",
      "365 316\n",
      "2226 317\n",
      "382 318\n",
      "3954 319\n",
      "410 320\n",
      "264 321\n",
      "111 322\n",
      "2984 323\n",
      "227 324\n",
      "313 325\n",
      "574 326\n",
      "207 327\n",
      "937 328\n",
      "1009 329\n",
      "1037 330\n",
      "576 331\n",
      "185 332\n",
      "115 333\n",
      "475 334\n",
      "1713 335\n",
      "187 336\n",
      "487 337\n",
      "1 338\n",
      "109 339\n",
      "1065 340\n",
      "131 341\n",
      "78 342\n",
      "1 343\n",
      "375 344\n",
      "154 345\n",
      "1804 346\n",
      "560 347\n",
      "2533 348\n",
      "423 349\n",
      "29 350\n",
      "350 351\n",
      "71 352\n",
      "42 353\n",
      "491 354\n",
      "2291 355\n",
      "226 356\n",
      "81 357\n",
      "86 358\n",
      "615 359\n",
      "94 360\n",
      "1021 361\n",
      "41 362\n",
      "214 363\n",
      "104 364\n",
      "872 365\n",
      "36 366\n",
      "364 367\n",
      "2500 368\n",
      "280 369\n",
      "157 370\n",
      "134 371\n",
      "480 372\n",
      "54 373\n",
      "314 374\n",
      "1139 375\n",
      "491 376\n",
      "371 377\n",
      "1368 378\n",
      "112 379\n",
      "2456 380\n",
      "227 381\n",
      "920 382\n",
      "84 383\n",
      "251 384\n",
      "909 385\n",
      "106 386\n",
      "141 387\n",
      "953 388\n",
      "413 389\n",
      "1336 390\n",
      "200 391\n",
      "383 392\n",
      "946 393\n",
      "2177 394\n",
      "1043 395\n",
      "809 396\n",
      "137 397\n",
      "279 398\n",
      "133 399\n",
      "836 400\n",
      "136 401\n",
      "515 402\n",
      "429 403\n",
      "217 404\n",
      "598 405\n",
      "1668 406\n",
      "242 407\n",
      "611 408\n",
      "556 409\n",
      "66 410\n",
      "53 411\n",
      "4780 412\n",
      "275 413\n",
      "251 414\n",
      "562 415\n",
      "1400 416\n",
      "111 417\n",
      "288 418\n",
      "313 419\n",
      "466 420\n",
      "409 421\n",
      "53 422\n",
      "520 423\n",
      "205 424\n",
      "198 425\n",
      "158 426\n",
      "33 427\n",
      "90 428\n",
      "749 429\n",
      "538 430\n",
      "678 431\n",
      "234 432\n",
      "152 433\n",
      "484 434\n",
      "183 435\n",
      "315 436\n",
      "286 437\n",
      "64 438\n",
      "560 439\n",
      "157 440\n",
      "305 441\n",
      "188 442\n",
      "628 443\n",
      "487 444\n",
      "1031 445\n",
      "607 446\n",
      "894 447\n",
      "312 448\n",
      "68 449\n",
      "535 450\n",
      "481 451\n",
      "332 452\n",
      "181 453\n",
      "245 454\n",
      "7 455\n",
      "258 456\n",
      "115 457\n",
      "181 458\n",
      "333 459\n",
      "5 460\n",
      "167 461\n",
      "416 462\n",
      "348 463\n",
      "243 464\n",
      "318 465\n",
      "541 466\n",
      "240 467\n",
      "408 468\n",
      "111 469\n",
      "207 470\n",
      "130 471\n",
      "510 472\n",
      "414 473\n",
      "220 474\n",
      "30 475\n",
      "237 476\n",
      "79 477\n",
      "133 478\n",
      "1001 479\n",
      "831 480\n",
      "522 481\n",
      "663 482\n",
      "281 483\n",
      "1403 484\n",
      "294 485\n",
      "125 486\n",
      "355 487\n",
      "523 488\n",
      "252 489\n",
      "426 490\n",
      "292 491\n",
      "1032 492\n",
      "425 493\n",
      "73 494\n",
      "1402 495\n",
      "284 496\n",
      "1226 497\n",
      "1156 498\n",
      "504 499\n",
      "181 500\n",
      "400 501\n",
      "558 502\n",
      "534 503\n",
      "193 504\n",
      "344 505\n",
      "282 506\n",
      "533 507\n",
      "62 508\n",
      "332 509\n",
      "144 510\n",
      "668 511\n",
      "475 512\n",
      "663 513\n",
      "4131 514\n",
      "57 515\n",
      "755 516\n",
      "400 517\n",
      "269 518\n",
      "369 519\n",
      "60 520\n",
      "320 521\n",
      "1048 522\n",
      "99 523\n",
      "326 524\n",
      "614 525\n",
      "539 526\n",
      "856 527\n",
      "384 528\n",
      "195 529\n",
      "1673 530\n",
      "405 531\n",
      "135 532\n",
      "726 533\n",
      "280 534\n",
      "622 535\n",
      "545 536\n",
      "346 537\n",
      "202 538\n",
      "73 539\n",
      "270 540\n",
      "1036 541\n",
      "136 542\n",
      "291 543\n",
      "521 544\n",
      "1667 545\n",
      "612 546\n",
      "903 547\n",
      "374 548\n",
      "545 549\n",
      "22 550\n",
      "407 551\n",
      "367 552\n",
      "1169 553\n",
      "149 554\n",
      "597 555\n",
      "350 556\n",
      "367 557\n",
      "76 558\n",
      "170 559\n",
      "192 560\n",
      "264 561\n",
      "25 562\n",
      "542 563\n",
      "372 564\n",
      "1020 565\n",
      "2236 566\n",
      "257 567\n",
      "294 568\n",
      "326 569\n",
      "989 570\n",
      "163 571\n",
      "272 572\n",
      "54 573\n",
      "764 574\n",
      "295 575\n",
      "749 576\n",
      "313 577\n",
      "47 578\n",
      "173 579\n",
      "226 580\n",
      "252 581\n",
      "52 582\n",
      "394 583\n",
      "69 584\n",
      "785 585\n",
      "77 586\n",
      "226 587\n",
      "367 588\n",
      "540 589\n",
      "355 590\n",
      "1731 591\n",
      "157 592\n",
      "275 593\n",
      "435 594\n",
      "870 595\n",
      "1861 596\n",
      "602 597\n",
      "2753 598\n",
      "27 599\n",
      "460 600\n",
      "296 601\n",
      "274 602\n",
      "237 603\n",
      "354 604\n",
      "1 605\n",
      "671 606\n",
      "199 607\n",
      "302 608\n",
      "436 609\n",
      "508 610\n",
      "2148 611\n",
      "673 612\n",
      "26 613\n",
      "78 614\n",
      "517 615\n",
      "106 616\n",
      "503 617\n",
      "380 618\n",
      "551 619\n",
      "136 620\n",
      "196 621\n",
      "405 622\n",
      "994 623\n",
      "376 624\n",
      "26 625\n",
      "198 626\n",
      "1827 627\n",
      "363 628\n",
      "508 629\n",
      "317 630\n",
      "66 631\n",
      "225 632\n",
      "358 633\n",
      "31 634\n",
      "2255 635\n",
      "85 636\n",
      "1 637\n",
      "1005 638\n",
      "396 639\n",
      "31 640\n",
      "233 641\n",
      "1695 642\n",
      "83 643\n",
      "708 644\n",
      "1000 645\n",
      "199 646\n",
      "1002 647\n",
      "679 648\n",
      "324 649\n",
      "499 650\n",
      "4175 651\n",
      "116 652\n",
      "1063 653\n",
      "175 654\n",
      "25 655\n",
      "598 656\n",
      "336 657\n",
      "348 658\n",
      "255 659\n",
      "1014 660\n",
      "9 661\n",
      "276 662\n",
      "579 663\n",
      "268 664\n",
      "337 665\n",
      "175 666\n",
      "2001 667\n",
      "149 668\n",
      "827 669\n",
      "175 670\n",
      "714 671\n",
      "700 672\n",
      "354 673\n",
      "97 674\n",
      "1093 675\n",
      "320 676\n",
      "431 677\n",
      "497 678\n",
      "1 679\n",
      "381 680\n",
      "204 681\n",
      "532 682\n",
      "593 683\n",
      "389 684\n",
      "537 685\n",
      "449 686\n",
      "181 687\n",
      "67 688\n",
      "41 689\n",
      "343 690\n",
      "422 691\n",
      "546 692\n",
      "308 693\n",
      "1 694\n",
      "1226 695\n",
      "128 696\n",
      "331 697\n",
      "130 698\n",
      "688 699\n",
      "177 700\n",
      "173 701\n",
      "1377 702\n",
      "616 703\n",
      "374 704\n",
      "775 705\n",
      "470 706\n",
      "293 707\n",
      "29 708\n",
      "753 709\n",
      "27 710\n",
      "348 711\n",
      "214 712\n",
      "863 713\n",
      "395 714\n",
      "322 715\n",
      "8 716\n",
      "284 717\n",
      "2714 718\n",
      "170 719\n",
      "1 720\n",
      "3805 721\n",
      "620 722\n",
      "76 723\n",
      "237 724\n",
      "267 725\n",
      "650 726\n",
      "235 727\n",
      "245 728\n",
      "1291 729\n",
      "567 730\n",
      "412 731\n",
      "321 732\n",
      "85 733\n",
      "84 734\n",
      "253 735\n",
      "311 736\n",
      "1500 737\n",
      "311 738\n",
      "477 739\n",
      "283 740\n",
      "613 741\n",
      "639 742\n",
      "2487 743\n",
      "261 744\n",
      "598 745\n",
      "149 746\n",
      "569 747\n",
      "260 748\n",
      "2790 749\n",
      "609 750\n",
      "316 751\n",
      "352 752\n",
      "212 753\n",
      "302 754\n",
      "73 755\n",
      "146 756\n",
      "101 757\n",
      "374 758\n",
      "411 759\n",
      "156 760\n",
      "430 761\n",
      "257 762\n",
      "160 763\n",
      "53 764\n",
      "183 765\n",
      "103 766\n",
      "23 767\n",
      "493 768\n",
      "516 769\n",
      "250 770\n",
      "735 771\n",
      "128 772\n",
      "45 773\n",
      "612 774\n",
      "882 775\n",
      "67 776\n",
      "190 777\n",
      "251 778\n",
      "566 779\n",
      "8 780\n",
      "576 781\n",
      "472 782\n",
      "2778 783\n",
      "892 784\n",
      "161 785\n",
      "818 786\n",
      "219 787\n",
      "560 788\n",
      "48 789\n",
      "709 790\n",
      "1124 791\n",
      "251 792\n",
      "409 793\n",
      "160 794\n",
      "370 795\n",
      "135 796\n",
      "31 797\n",
      "382 798\n",
      "237 799\n",
      "149 800\n",
      "74 801\n",
      "210 802\n",
      "289 803\n",
      "856 804\n",
      "309 805\n",
      "659 806\n",
      "1609 807\n",
      "1882 808\n",
      "541 809\n",
      "295 810\n",
      "1711 811\n",
      "853 812\n",
      "371 813\n",
      "150 814\n",
      "102 815\n",
      "317 816\n",
      "165 817\n",
      "135 818\n",
      "278 819\n",
      "31 820\n",
      "43 821\n",
      "685 822\n",
      "131 823\n",
      "1403 824\n",
      "204 825\n",
      "2961 826\n",
      "88 827\n",
      "491 828\n",
      "253 829\n",
      "42 830\n",
      "92 831\n",
      "592 832\n",
      "133 833\n",
      "366 834\n",
      "180 835\n",
      "266 836\n",
      "1 837\n",
      "175 838\n",
      "516 839\n",
      "106 840\n",
      "847 841\n",
      "638 842\n",
      "25 843\n",
      "122 844\n",
      "195 845\n",
      "2223 846\n",
      "1034 847\n",
      "675 848\n",
      "394 849\n",
      "499 850\n",
      "225 851\n",
      "358 852\n",
      "460 853\n",
      "760 854\n",
      "96 855\n",
      "73 856\n",
      "398 857\n",
      "356 858\n",
      "1626 859\n",
      "1092 860\n",
      "429 861\n",
      "334 862\n",
      "176 863\n",
      "367 864\n",
      "366 865\n",
      "359 866\n",
      "82 867\n",
      "129 868\n",
      "1917 869\n",
      "229 870\n",
      "1101 871\n",
      "543 872\n",
      "328 873\n",
      "511 874\n",
      "502 875\n",
      "312 876\n",
      "389 877\n",
      "158 878\n",
      "897 879\n",
      "554 880\n",
      "1379 881\n",
      "202 882\n",
      "657 883\n",
      "932 884\n",
      "415 885\n",
      "4317 886\n",
      "279 887\n",
      "1841 888\n",
      "230 889\n",
      "1085 890\n",
      "113 891\n",
      "26 892\n",
      "23 893\n",
      "281 894\n",
      "859 895\n",
      "431 896\n",
      "588 897\n",
      "30 898\n",
      "359 899\n",
      "317 900\n",
      "281 901\n",
      "359 902\n",
      "42 903\n",
      "462 904\n",
      "243 905\n",
      "372 906\n",
      "1 907\n",
      "80 908\n",
      "350 909\n",
      "280 910\n",
      "233 911\n",
      "171 912\n",
      "628 913\n",
      "53 914\n",
      "215 915\n",
      "265 916\n",
      "667 917\n",
      "543 918\n",
      "113 919\n",
      "446 920\n",
      "90 921\n",
      "622 922\n",
      "303 923\n",
      "1040 924\n",
      "540 925\n",
      "1713 926\n",
      "245 927\n",
      "452 928\n",
      "533 929\n",
      "811 930\n",
      "225 931\n",
      "242 932\n",
      "1028 933\n",
      "34 934\n",
      "74 935\n",
      "511 936\n",
      "853 937\n",
      "256 938\n",
      "426 939\n",
      "384 940\n",
      "604 941\n",
      "74 942\n",
      "620 943\n",
      "586 944\n",
      "538 945\n",
      "4211 946\n",
      "281 947\n",
      "508 948\n",
      "228 949\n",
      "211 950\n",
      "265 951\n",
      "449 952\n",
      "301 953\n",
      "2126 954\n",
      "307 955\n",
      "1 956\n",
      "39 957\n",
      "248 958\n",
      "570 959\n",
      "170 960\n",
      "525 961\n",
      "2898 962\n",
      "567 963\n",
      "318 964\n",
      "1619 965\n",
      "1640 966\n",
      "257 967\n",
      "455 968\n",
      "617 969\n",
      "134 970\n",
      "340 971\n",
      "188 972\n",
      "170 973\n",
      "401 974\n",
      "109 975\n",
      "178 976\n",
      "498 977\n",
      "565 978\n",
      "79 979\n",
      "242 980\n",
      "353 981\n",
      "88 982\n",
      "116 983\n",
      "907 984\n",
      "273 985\n",
      "1 986\n",
      "339 987\n",
      "918 988\n",
      "548 989\n",
      "271 990\n",
      "1660 991\n",
      "135 992\n",
      "174 993\n",
      "259 994\n",
      "553 995\n",
      "3956 996\n",
      "1258 997\n",
      "63 998\n",
      "234 999\n",
      "668 1000\n",
      "2016 1001\n",
      "344 1002\n",
      "180 1003\n",
      "1058 1004\n",
      "383 1005\n",
      "256 1006\n",
      "549 1007\n",
      "334 1008\n",
      "557 1009\n",
      "538 1010\n",
      "359 1011\n",
      "1024 1012\n",
      "706 1013\n",
      "171 1014\n",
      "127 1015\n",
      "740 1016\n",
      "193 1017\n",
      "967 1018\n",
      "363 1019\n",
      "2295 1020\n",
      "561 1021\n",
      "250 1022\n",
      "249 1023\n",
      "1131 1024\n",
      "556 1025\n",
      "109 1026\n",
      "319 1027\n",
      "357 1028\n",
      "313 1029\n",
      "212 1030\n",
      "2918 1031\n",
      "94 1032\n",
      "829 1033\n",
      "382 1034\n",
      "33 1035\n"
     ]
    },
    {
     "name": "stdout",
     "output_type": "stream",
     "text": [
      "553 1036\n",
      "260 1037\n",
      "2205 1038\n",
      "1 1039\n",
      "332 1040\n",
      "225 1041\n",
      "1891 1042\n",
      "584 1043\n",
      "198 1044\n",
      "140 1045\n",
      "1185 1046\n",
      "37 1047\n",
      "439 1048\n",
      "893 1049\n",
      "370 1050\n",
      "1317 1051\n",
      "124 1052\n",
      "168 1053\n",
      "82 1054\n",
      "961 1055\n",
      "1 1056\n",
      "515 1057\n",
      "419 1058\n",
      "186 1059\n",
      "170 1060\n",
      "521 1061\n",
      "102 1062\n",
      "543 1063\n",
      "376 1064\n",
      "210 1065\n",
      "261 1066\n",
      "139 1067\n",
      "390 1068\n",
      "695 1069\n",
      "266 1070\n",
      "573 1071\n",
      "521 1072\n",
      "1571 1073\n",
      "210 1074\n",
      "487 1075\n",
      "470 1076\n",
      "135 1077\n",
      "143 1078\n",
      "314 1079\n",
      "275 1080\n",
      "1091 1081\n",
      "274 1082\n",
      "360 1083\n",
      "495 1084\n",
      "18 1085\n",
      "66 1086\n",
      "215 1087\n",
      "564 1088\n",
      "1352 1089\n",
      "643 1090\n",
      "217 1091\n",
      "616 1092\n",
      "425 1093\n",
      "613 1094\n",
      "2725 1095\n",
      "148 1096\n",
      "560 1097\n",
      "826 1098\n",
      "165 1099\n",
      "412 1100\n",
      "3444 1101\n",
      "356 1102\n",
      "565 1103\n",
      "52 1104\n",
      "890 1105\n",
      "1218 1106\n",
      "243 1107\n",
      "452 1108\n",
      "283 1109\n",
      "61 1110\n",
      "512 1111\n",
      "193 1112\n",
      "658 1113\n",
      "386 1114\n",
      "655 1115\n",
      "1326 1116\n",
      "476 1117\n",
      "1217 1118\n",
      "749 1119\n",
      "225 1120\n",
      "659 1121\n",
      "472 1122\n",
      "136 1123\n",
      "229 1124\n",
      "156 1125\n",
      "402 1126\n",
      "1075 1127\n",
      "899 1128\n",
      "23 1129\n",
      "8 1130\n",
      "342 1131\n",
      "25 1132\n",
      "318 1133\n",
      "363 1134\n",
      "398 1135\n",
      "355 1136\n",
      "191 1137\n",
      "1 1138\n",
      "230 1139\n",
      "1816 1140\n",
      "394 1141\n",
      "127 1142\n",
      "512 1143\n",
      "1245 1144\n",
      "132 1145\n",
      "28 1146\n",
      "631 1147\n",
      "26 1148\n",
      "368 1149\n",
      "40 1150\n",
      "245 1151\n",
      "2146 1152\n",
      "895 1153\n",
      "614 1154\n",
      "1917 1155\n",
      "247 1156\n",
      "337 1157\n",
      "2679 1158\n",
      "325 1159\n",
      "1706 1160\n",
      "1275 1161\n",
      "348 1162\n",
      "2238 1163\n",
      "303 1164\n",
      "410 1165\n",
      "179 1166\n",
      "359 1167\n",
      "280 1168\n",
      "675 1169\n",
      "663 1170\n",
      "722 1171\n",
      "511 1172\n",
      "1962 1173\n",
      "445 1174\n",
      "611 1175\n",
      "712 1176\n",
      "95 1177\n",
      "170 1178\n",
      "1889 1179\n",
      "446 1180\n",
      "1135 1181\n",
      "860 1182\n",
      "1115 1183\n",
      "161 1184\n",
      "617 1185\n",
      "798 1186\n",
      "179 1187\n",
      "494 1188\n",
      "428 1189\n",
      "320 1190\n",
      "654 1191\n",
      "250 1192\n",
      "759 1193\n",
      "436 1194\n",
      "190 1195\n",
      "53 1196\n",
      "424 1197\n",
      "225 1198\n",
      "297 1199\n",
      "169 1200\n",
      "243 1201\n",
      "209 1202\n",
      "352 1203\n",
      "945 1204\n",
      "920 1205\n",
      "213 1206\n",
      "576 1207\n",
      "476 1208\n",
      "439 1209\n",
      "110 1210\n",
      "342 1211\n",
      "137 1212\n",
      "439 1213\n",
      "245 1214\n",
      "466 1215\n",
      "572 1216\n",
      "1441 1217\n",
      "779 1218\n",
      "1292 1219\n",
      "369 1220\n",
      "235 1221\n",
      "343 1222\n",
      "623 1223\n",
      "403 1224\n",
      "766 1225\n",
      "34 1226\n",
      "429 1227\n",
      "355 1228\n",
      "258 1229\n",
      "222 1230\n",
      "489 1231\n",
      "731 1232\n",
      "245 1233\n",
      "358 1234\n",
      "463 1235\n",
      "1894 1236\n",
      "213 1237\n",
      "228 1238\n",
      "958 1239\n",
      "225 1240\n",
      "230 1241\n",
      "2472 1242\n",
      "454 1243\n",
      "357 1244\n",
      "419 1245\n",
      "1 1246\n",
      "1509 1247\n",
      "166 1248\n",
      "172 1249\n",
      "207 1250\n",
      "742 1251\n",
      "197 1252\n",
      "27 1253\n",
      "174 1254\n",
      "217 1255\n",
      "516 1256\n",
      "108 1257\n",
      "184 1258\n",
      "320 1259\n",
      "292 1260\n",
      "90 1261\n",
      "337 1262\n",
      "3540 1263\n",
      "276 1264\n",
      "250 1265\n",
      "240 1266\n",
      "401 1267\n",
      "354 1268\n",
      "231 1269\n",
      "386 1270\n",
      "1093 1271\n",
      "362 1272\n",
      "398 1273\n",
      "220 1274\n",
      "85 1275\n",
      "409 1276\n",
      "827 1277\n",
      "1224 1278\n",
      "1642 1279\n",
      "3824 1280\n",
      "651 1281\n",
      "622 1282\n",
      "70 1283\n",
      "518 1284\n",
      "365 1285\n",
      "366 1286\n",
      "458 1287\n",
      "210 1288\n",
      "231 1289\n",
      "332 1290\n",
      "158 1291\n",
      "373 1292\n",
      "88 1293\n",
      "378 1294\n",
      "121 1295\n",
      "431 1296\n",
      "987 1297\n",
      "1 1298\n",
      "255 1299\n",
      "691 1300\n",
      "510 1301\n",
      "529 1302\n",
      "427 1303\n",
      "2 1304\n",
      "155 1305\n",
      "315 1306\n",
      "14 1307\n",
      "2785 1308\n",
      "109 1309\n",
      "257 1310\n",
      "633 1311\n",
      "225 1312\n",
      "1656 1313\n",
      "69 1314\n",
      "178 1315\n",
      "443 1316\n",
      "118 1317\n",
      "168 1318\n",
      "1433 1319\n",
      "2 1320\n",
      "447 1321\n",
      "253 1322\n",
      "462 1323\n",
      "1487 1324\n",
      "818 1325\n",
      "32 1326\n",
      "243 1327\n",
      "531 1328\n",
      "174 1329\n",
      "2856 1330\n",
      "174 1331\n",
      "116 1332\n",
      "3596 1333\n",
      "359 1334\n",
      "66 1335\n",
      "1865 1336\n",
      "509 1337\n",
      "1 1338\n",
      "1 1339\n",
      "86 1340\n",
      "473 1341\n",
      "213 1342\n",
      "35 1343\n",
      "433 1344\n",
      "434 1345\n",
      "393 1346\n",
      "1386 1347\n",
      "1012 1348\n",
      "460 1349\n",
      "898 1350\n",
      "220 1351\n",
      "652 1352\n",
      "216 1353\n",
      "297 1354\n",
      "351 1355\n",
      "276 1356\n",
      "165 1357\n",
      "190 1358\n",
      "400 1359\n",
      "544 1360\n",
      "351 1361\n",
      "5000 1362\n",
      "54 1363\n",
      "1050 1364\n",
      "370 1365\n",
      "380 1366\n",
      "197 1367\n",
      "713 1368\n",
      "1086 1369\n",
      "383 1370\n",
      "251 1371\n",
      "132 1372\n",
      "531 1373\n",
      "92 1374\n",
      "484 1375\n",
      "605 1376\n",
      "114 1377\n",
      "1553 1378\n",
      "306 1379\n",
      "203 1380\n",
      "32 1381\n",
      "183 1382\n",
      "393 1383\n",
      "489 1384\n",
      "217 1385\n",
      "230 1386\n",
      "304 1387\n",
      "138 1388\n",
      "670 1389\n",
      "1033 1390\n",
      "346 1391\n",
      "552 1392\n",
      "329 1393\n",
      "123 1394\n",
      "51 1395\n",
      "284 1396\n",
      "483 1397\n",
      "682 1398\n",
      "469 1399\n",
      "330 1400\n",
      "364 1401\n",
      "337 1402\n",
      "255 1403\n",
      "182 1404\n",
      "772 1405\n",
      "417 1406\n",
      "2533 1407\n",
      "310 1408\n",
      "107 1409\n",
      "200 1410\n",
      "1162 1411\n",
      "193 1412\n",
      "1381 1413\n",
      "2619 1414\n",
      "961 1415\n",
      "1062 1416\n",
      "372 1417\n",
      "333 1418\n",
      "5000 1419\n",
      "231 1420\n",
      "445 1421\n",
      "693 1422\n",
      "644 1423\n",
      "32 1424\n",
      "171 1425\n",
      "246 1426\n",
      "286 1427\n",
      "606 1428\n",
      "395 1429\n",
      "162 1430\n",
      "70 1431\n",
      "1635 1432\n",
      "606 1433\n",
      "390 1434\n",
      "437 1435\n",
      "1087 1436\n",
      "248 1437\n",
      "252 1438\n",
      "292 1439\n",
      "518 1440\n",
      "769 1441\n",
      "796 1442\n",
      "1484 1443\n",
      "88 1444\n",
      "264 1445\n",
      "261 1446\n",
      "708 1447\n",
      "353 1448\n",
      "479 1449\n",
      "563 1450\n",
      "294 1451\n",
      "397 1452\n",
      "997 1453\n",
      "1144 1454\n",
      "72 1455\n",
      "2 1456\n",
      "246 1457\n",
      "144 1458\n",
      "720 1459\n",
      "76 1460\n",
      "1313 1461\n",
      "1113 1462\n",
      "187 1463\n",
      "308 1464\n",
      "233 1465\n",
      "395 1466\n",
      "180 1467\n",
      "321 1468\n",
      "335 1469\n",
      "442 1470\n",
      "197 1471\n",
      "170 1472\n",
      "416 1473\n",
      "1718 1474\n",
      "79 1475\n",
      "493 1476\n",
      "356 1477\n",
      "1 1478\n",
      "347 1479\n",
      "1482 1480\n",
      "829 1481\n",
      "392 1482\n",
      "54 1483\n",
      "1518 1484\n",
      "770 1485\n",
      "277 1486\n",
      "399 1487\n",
      "8 1488\n",
      "489 1489\n",
      "216 1490\n",
      "1401 1491\n",
      "503 1492\n",
      "364 1493\n",
      "2263 1494\n",
      "3074 1495\n",
      "458 1496\n",
      "189 1497\n",
      "648 1498\n",
      "818 1499\n",
      "460 1500\n",
      "1107 1501\n",
      "2563 1502\n",
      "159 1503\n",
      "103 1504\n",
      "206 1505\n",
      "377 1506\n",
      "185 1507\n",
      "9 1508\n",
      "507 1509\n",
      "312 1510\n",
      "87 1511\n",
      "60 1512\n",
      "293 1513\n",
      "311 1514\n",
      "472 1515\n",
      "23 1516\n",
      "86 1517\n",
      "16 1518\n",
      "340 1519\n",
      "372 1520\n",
      "1179 1521\n",
      "317 1522\n",
      "118 1523\n",
      "146 1524\n",
      "366 1525\n",
      "340 1526\n",
      "1 1527\n",
      "72 1528\n",
      "246 1529\n",
      "172 1530\n",
      "835 1531\n",
      "33 1532\n",
      "882 1533\n",
      "541 1534\n",
      "262 1535\n",
      "276 1536\n",
      "313 1537\n",
      "481 1538\n",
      "533 1539\n",
      "72 1540\n",
      "397 1541\n",
      "458 1542\n",
      "665 1543\n",
      "138 1544\n",
      "2224 1545\n",
      "4488 1546\n",
      "261 1547\n",
      "236 1548\n",
      "210 1549\n",
      "3545 1550\n",
      "83 1551\n",
      "463 1552\n",
      "4076 1553\n",
      "314 1554\n",
      "501 1555\n",
      "120 1556\n",
      "212 1557\n",
      "276 1558\n",
      "360 1559\n",
      "1 1560\n",
      "85 1561\n",
      "146 1562\n",
      "17 1563\n",
      "321 1564\n",
      "454 1565\n",
      "303 1566\n",
      "1079 1567\n",
      "975 1568\n",
      "341 1569\n",
      "252 1570\n",
      "284 1571\n",
      "364 1572\n",
      "175 1573\n",
      "196 1574\n",
      "3455 1575\n",
      "2207 1576\n",
      "315 1577\n",
      "173 1578\n",
      "75 1579\n",
      "569 1580\n",
      "172 1581\n",
      "96 1582\n",
      "466 1583\n",
      "32 1584\n",
      "89 1585\n",
      "211 1586\n",
      "808 1587\n",
      "813 1588\n",
      "859 1589\n",
      "405 1590\n",
      "1499 1591\n",
      "1007 1592\n",
      "410 1593\n",
      "683 1594\n",
      "246 1595\n",
      "225 1596\n",
      "1031 1597\n",
      "474 1598\n",
      "193 1599\n",
      "356 1600\n",
      "194 1601\n",
      "128 1602\n",
      "441 1603\n",
      "496 1604\n",
      "770 1605\n",
      "545 1606\n",
      "774 1607\n",
      "429 1608\n",
      "78 1609\n",
      "179 1610\n",
      "183 1611\n",
      "1828 1612\n",
      "734 1613\n",
      "504 1614\n",
      "62 1615\n",
      "41 1616\n",
      "42 1617\n",
      "396 1618\n",
      "342 1619\n",
      "1533 1620\n",
      "208 1621\n",
      "390 1622\n",
      "900 1623\n",
      "433 1624\n",
      "355 1625\n",
      "301 1626\n",
      "407 1627\n",
      "88 1628\n",
      "627 1629\n",
      "66 1630\n",
      "29 1631\n",
      "273 1632\n",
      "50 1633\n",
      "531 1634\n",
      "433 1635\n",
      "225 1636\n",
      "93 1637\n",
      "309 1638\n",
      "285 1639\n",
      "43 1640\n",
      "284 1641\n",
      "1351 1642\n",
      "487 1643\n",
      "2280 1644\n",
      "1749 1645\n",
      "3405 1646\n",
      "209 1647\n",
      "1959 1648\n",
      "1129 1649\n",
      "253 1650\n",
      "2634 1651\n",
      "751 1652\n",
      "231 1653\n",
      "423 1654\n",
      "192 1655\n",
      "83 1656\n",
      "981 1657\n",
      "556 1658\n",
      "284 1659\n",
      "423 1660\n",
      "706 1661\n",
      "1991 1662\n",
      "424 1663\n",
      "122 1664\n",
      "710 1665\n",
      "144 1666\n",
      "149 1667\n",
      "359 1668\n",
      "553 1669\n",
      "555 1670\n",
      "987 1671\n",
      "1149 1672\n",
      "295 1673\n",
      "609 1674\n",
      "797 1675\n",
      "584 1676\n",
      "106 1677\n",
      "164 1678\n",
      "496 1679\n",
      "114 1680\n",
      "609 1681\n",
      "396 1682\n",
      "188 1683\n",
      "4488 1684\n",
      "2565 1685\n",
      "519 1686\n",
      "423 1687\n",
      "561 1688\n",
      "335 1689\n",
      "248 1690\n",
      "292 1691\n",
      "321 1692\n",
      "61 1693\n",
      "2931 1694\n",
      "1445 1695\n",
      "240 1696\n",
      "278 1697\n",
      "157 1698\n",
      "3031 1699\n",
      "5000 1700\n",
      "393 1701\n",
      "595 1702\n",
      "8 1703\n",
      "4107 1704\n",
      "505 1705\n",
      "188 1706\n",
      "180 1707\n",
      "128 1708\n",
      "390 1709\n",
      "1074 1710\n",
      "150 1711\n",
      "2098 1712\n",
      "509 1713\n",
      "497 1714\n",
      "382 1715\n",
      "388 1716\n",
      "1 1717\n",
      "2191 1718\n",
      "1143 1719\n",
      "134 1720\n",
      "412 1721\n",
      "271 1722\n",
      "153 1723\n",
      "393 1724\n",
      "390 1725\n",
      "665 1726\n",
      "778 1727\n",
      "450 1728\n",
      "151 1729\n",
      "1 1730\n",
      "175 1731\n",
      "108 1732\n",
      "76 1733\n",
      "31 1734\n",
      "275 1735\n",
      "215 1736\n",
      "3082 1737\n",
      "615 1738\n",
      "548 1739\n",
      "112 1740\n",
      "378 1741\n",
      "386 1742\n",
      "412 1743\n",
      "507 1744\n",
      "625 1745\n",
      "238 1746\n",
      "376 1747\n",
      "276 1748\n",
      "201 1749\n",
      "336 1750\n",
      "267 1751\n",
      "351 1752\n",
      "207 1753\n",
      "335 1754\n",
      "31 1755\n",
      "783 1756\n",
      "1321 1757\n",
      "881 1758\n",
      "12 1759\n",
      "76 1760\n",
      "63 1761\n",
      "327 1762\n",
      "72 1763\n",
      "966 1764\n",
      "536 1765\n",
      "171 1766\n",
      "1097 1767\n",
      "2752 1768\n",
      "3280 1769\n",
      "275 1770\n",
      "35 1771\n",
      "761 1772\n",
      "259 1773\n",
      "328 1774\n",
      "1384 1775\n",
      "1336 1776\n",
      "278 1777\n",
      "272 1778\n",
      "683 1779\n",
      "350 1780\n",
      "459 1781\n",
      "2506 1782\n",
      "74 1783\n",
      "230 1784\n",
      "336 1785\n",
      "771 1786\n",
      "83 1787\n",
      "345 1788\n",
      "118 1789\n",
      "171 1790\n",
      "165 1791\n",
      "141 1792\n",
      "612 1793\n",
      "166 1794\n",
      "1773 1795\n",
      "92 1796\n",
      "66 1797\n",
      "457 1798\n",
      "577 1799\n",
      "270 1800\n",
      "492 1801\n",
      "429 1802\n",
      "462 1803\n",
      "174 1804\n",
      "193 1805\n",
      "1288 1806\n",
      "250 1807\n",
      "129 1808\n",
      "239 1809\n",
      "123 1810\n",
      "35 1811\n",
      "342 1812\n",
      "120 1813\n",
      "37 1814\n",
      "256 1815\n",
      "1760 1816\n",
      "286 1817\n",
      "63 1818\n",
      "133 1819\n",
      "316 1820\n",
      "540 1821\n",
      "510 1822\n",
      "789 1823\n",
      "547 1824\n",
      "193 1825\n",
      "1 1826\n",
      "27 1827\n",
      "272 1828\n",
      "1307 1829\n",
      "272 1830\n",
      "573 1831\n",
      "42 1832\n",
      "644 1833\n",
      "170 1834\n",
      "432 1835\n",
      "198 1836\n",
      "696 1837\n",
      "1601 1838\n",
      "432 1839\n",
      "73 1840\n",
      "527 1841\n",
      "150 1842\n",
      "222 1843\n",
      "489 1844\n",
      "64 1845\n",
      "139 1846\n",
      "92 1847\n",
      "88 1848\n",
      "314 1849\n",
      "3575 1850\n",
      "1014 1851\n",
      "224 1852\n",
      "65 1853\n",
      "1 1854\n",
      "2525 1855\n",
      "316 1856\n",
      "8 1857\n",
      "95 1858\n",
      "677 1859\n",
      "2199 1860\n",
      "100 1861\n",
      "906 1862\n",
      "301 1863\n",
      "284 1864\n",
      "596 1865\n",
      "3305 1866\n",
      "382 1867\n",
      "156 1868\n",
      "553 1869\n",
      "1463 1870\n",
      "1188 1871\n",
      "126 1872\n",
      "487 1873\n",
      "756 1874\n",
      "603 1875\n",
      "229 1876\n",
      "159 1877\n",
      "352 1878\n",
      "389 1879\n",
      "446 1880\n",
      "136 1881\n",
      "161 1882\n",
      "191 1883\n",
      "467 1884\n",
      "357 1885\n",
      "227 1886\n",
      "165 1887\n",
      "24 1888\n",
      "48 1889\n",
      "485 1890\n",
      "53 1891\n",
      "358 1892\n",
      "1 1893\n",
      "180 1894\n",
      "190 1895\n",
      "257 1896\n",
      "1596 1897\n",
      "193 1898\n",
      "2583 1899\n",
      "503 1900\n",
      "247 1901\n",
      "269 1902\n",
      "282 1903\n",
      "1288 1904\n",
      "199 1905\n",
      "433 1906\n",
      "1007 1907\n",
      "1105 1908\n",
      "82 1909\n",
      "30 1910\n",
      "127 1911\n",
      "223 1912\n",
      "1160 1913\n",
      "329 1914\n",
      "192 1915\n",
      "1017 1916\n",
      "1791 1917\n",
      "400 1918\n",
      "907 1919\n",
      "271 1920\n",
      "87 1921\n",
      "289 1922\n",
      "265 1923\n",
      "283 1924\n",
      "101 1925\n",
      "982 1926\n",
      "2965 1927\n",
      "300 1928\n",
      "36 1929\n",
      "380 1930\n",
      "183 1931\n",
      "775 1932\n",
      "380 1933\n",
      "173 1934\n",
      "246 1935\n",
      "359 1936\n",
      "166 1937\n",
      "459 1938\n",
      "932 1939\n",
      "328 1940\n",
      "492 1941\n",
      "521 1942\n",
      "783 1943\n",
      "113 1944\n",
      "564 1945\n",
      "442 1946\n"
     ]
    },
    {
     "name": "stdout",
     "output_type": "stream",
     "text": [
      "294 1947\n",
      "215 1948\n",
      "127 1949\n",
      "132 1950\n",
      "182 1951\n",
      "137 1952\n",
      "1532 1953\n",
      "322 1954\n",
      "448 1955\n",
      "227 1956\n",
      "1517 1957\n",
      "179 1958\n",
      "783 1959\n",
      "339 1960\n",
      "5000 1961\n",
      "225 1962\n",
      "2847 1963\n",
      "1322 1964\n",
      "210 1965\n",
      "296 1966\n",
      "512 1967\n",
      "272 1968\n",
      "108 1969\n",
      "168 1970\n",
      "686 1971\n",
      "139 1972\n",
      "619 1973\n",
      "289 1974\n",
      "284 1975\n",
      "297 1976\n",
      "382 1977\n",
      "1550 1978\n",
      "116 1979\n",
      "428 1980\n",
      "433 1981\n",
      "251 1982\n",
      "396 1983\n",
      "311 1984\n",
      "251 1985\n",
      "138 1986\n",
      "167 1987\n",
      "170 1988\n",
      "176 1989\n",
      "1376 1990\n",
      "610 1991\n",
      "924 1992\n",
      "416 1993\n",
      "65 1994\n",
      "430 1995\n",
      "46 1996\n",
      "245 1997\n",
      "127 1998\n",
      "1249 1999\n",
      "209 2000\n",
      "357 2001\n",
      "388 2002\n",
      "351 2003\n",
      "244 2004\n",
      "145 2005\n",
      "351 2006\n",
      "306 2007\n",
      "188 2008\n",
      "1339 2009\n",
      "558 2010\n",
      "475 2011\n",
      "636 2012\n",
      "1293 2013\n",
      "440 2014\n",
      "747 2015\n",
      "931 2016\n",
      "162 2017\n",
      "2330 2018\n",
      "395 2019\n",
      "417 2020\n",
      "156 2021\n",
      "1 2022\n",
      "2031 2023\n",
      "1048 2024\n",
      "1073 2025\n",
      "572 2026\n",
      "367 2027\n",
      "181 2028\n",
      "433 2029\n",
      "1569 2030\n",
      "145 2031\n",
      "683 2032\n",
      "129 2033\n",
      "4602 2034\n",
      "148 2035\n",
      "335 2036\n",
      "24 2037\n",
      "401 2038\n",
      "463 2039\n",
      "438 2040\n",
      "779 2041\n",
      "335 2042\n",
      "237 2043\n",
      "177 2044\n",
      "137 2045\n",
      "144 2046\n",
      "6 2047\n",
      "1 2048\n",
      "644 2049\n",
      "672 2050\n",
      "364 2051\n",
      "452 2052\n",
      "279 2053\n",
      "118 2054\n",
      "1448 2055\n",
      "412 2056\n",
      "423 2057\n",
      "3156 2058\n",
      "136 2059\n",
      "245 2060\n",
      "182 2061\n",
      "416 2062\n",
      "673 2063\n",
      "1271 2064\n",
      "300 2065\n",
      "660 2066\n",
      "176 2067\n",
      "124 2068\n",
      "177 2069\n",
      "208 2070\n",
      "4436 2071\n",
      "1 2072\n",
      "30 2073\n",
      "199 2074\n",
      "300 2075\n",
      "151 2076\n",
      "1356 2077\n",
      "177 2078\n",
      "274 2079\n",
      "404 2080\n",
      "736 2081\n",
      "543 2082\n",
      "64 2083\n",
      "29 2084\n",
      "197 2085\n",
      "1127 2086\n",
      "273 2087\n",
      "29 2088\n",
      "818 2089\n",
      "523 2090\n",
      "232 2091\n",
      "161 2092\n",
      "396 2093\n",
      "607 2094\n",
      "14 2095\n",
      "504 2096\n",
      "502 2097\n",
      "379 2098\n",
      "66 2099\n",
      "1 2100\n",
      "91 2101\n",
      "410 2102\n",
      "207 2103\n",
      "332 2104\n",
      "557 2105\n",
      "171 2106\n",
      "148 2107\n",
      "175 2108\n",
      "328 2109\n",
      "682 2110\n",
      "1756 2111\n",
      "296 2112\n",
      "171 2113\n",
      "98 2114\n",
      "583 2115\n",
      "1284 2116\n",
      "31 2117\n",
      "361 2118\n",
      "53 2119\n",
      "1256 2120\n",
      "229 2121\n",
      "386 2122\n",
      "430 2123\n",
      "448 2124\n",
      "221 2125\n",
      "261 2126\n",
      "16 2127\n",
      "449 2128\n",
      "364 2129\n",
      "1466 2130\n",
      "170 2131\n",
      "28 2132\n",
      "185 2133\n",
      "205 2134\n",
      "784 2135\n",
      "192 2136\n",
      "552 2137\n",
      "828 2138\n",
      "261 2139\n",
      "182 2140\n",
      "361 2141\n",
      "459 2142\n",
      "1408 2143\n",
      "1529 2144\n",
      "555 2145\n",
      "1997 2146\n",
      "3655 2147\n",
      "100 2148\n",
      "221 2149\n",
      "814 2150\n",
      "445 2151\n",
      "236 2152\n",
      "188 2153\n",
      "189 2154\n",
      "354 2155\n",
      "4091 2156\n",
      "43 2157\n",
      "409 2158\n",
      "225 2159\n",
      "519 2160\n",
      "355 2161\n",
      "365 2162\n",
      "172 2163\n",
      "701 2164\n",
      "4599 2165\n",
      "34 2166\n",
      "738 2167\n",
      "2801 2168\n",
      "197 2169\n",
      "513 2170\n",
      "576 2171\n",
      "2058 2172\n",
      "368 2173\n",
      "352 2174\n",
      "270 2175\n",
      "83 2176\n",
      "877 2177\n",
      "940 2178\n",
      "588 2179\n",
      "705 2180\n",
      "368 2181\n",
      "182 2182\n",
      "167 2183\n",
      "342 2184\n",
      "156 2185\n",
      "70 2186\n",
      "232 2187\n",
      "394 2188\n",
      "1346 2189\n",
      "643 2190\n",
      "164 2191\n",
      "486 2192\n",
      "1349 2193\n",
      "241 2194\n",
      "111 2195\n",
      "344 2196\n",
      "52 2197\n",
      "200 2198\n",
      "340 2199\n",
      "524 2200\n",
      "253 2201\n",
      "266 2202\n",
      "372 2203\n",
      "263 2204\n",
      "35 2205\n",
      "53 2206\n",
      "494 2207\n",
      "2457 2208\n",
      "32 2209\n",
      "671 2210\n",
      "365 2211\n",
      "281 2212\n",
      "35 2213\n",
      "384 2214\n",
      "75 2215\n",
      "2024 2216\n",
      "239 2217\n",
      "192 2218\n",
      "214 2219\n",
      "61 2220\n",
      "214 2221\n",
      "1 2222\n",
      "337 2223\n",
      "650 2224\n",
      "454 2225\n",
      "370 2226\n",
      "137 2227\n",
      "361 2228\n",
      "234 2229\n",
      "513 2230\n",
      "587 2231\n",
      "358 2232\n",
      "359 2233\n",
      "470 2234\n",
      "108 2235\n",
      "525 2236\n",
      "4169 2237\n",
      "231 2238\n",
      "270 2239\n",
      "377 2240\n",
      "150 2241\n",
      "454 2242\n",
      "280 2243\n",
      "2880 2244\n",
      "989 2245\n",
      "323 2246\n",
      "256 2247\n",
      "329 2248\n",
      "83 2249\n",
      "341 2250\n",
      "344 2251\n",
      "34 2252\n",
      "272 2253\n",
      "350 2254\n",
      "370 2255\n",
      "845 2256\n",
      "60 2257\n",
      "470 2258\n",
      "1349 2259\n",
      "520 2260\n",
      "235 2261\n",
      "764 2262\n",
      "2233 2263\n",
      "129 2264\n",
      "1 2265\n",
      "666 2266\n",
      "2027 2267\n",
      "331 2268\n",
      "111 2269\n",
      "38 2270\n",
      "268 2271\n",
      "1967 2272\n",
      "295 2273\n",
      "359 2274\n",
      "644 2275\n",
      "421 2276\n",
      "182 2277\n",
      "222 2278\n",
      "49 2279\n",
      "71 2280\n",
      "409 2281\n",
      "556 2282\n",
      "454 2283\n",
      "181 2284\n",
      "227 2285\n",
      "523 2286\n",
      "149 2287\n",
      "466 2288\n",
      "845 2289\n",
      "291 2290\n",
      "468 2291\n",
      "233 2292\n",
      "56 2293\n",
      "592 2294\n",
      "630 2295\n",
      "916 2296\n",
      "29 2297\n",
      "130 2298\n",
      "138 2299\n",
      "28 2300\n",
      "233 2301\n",
      "273 2302\n",
      "428 2303\n",
      "213 2304\n",
      "116 2305\n",
      "732 2306\n",
      "728 2307\n",
      "490 2308\n",
      "266 2309\n",
      "230 2310\n",
      "396 2311\n",
      "428 2312\n",
      "626 2313\n",
      "467 2314\n",
      "24 2315\n",
      "364 2316\n",
      "319 2317\n",
      "73 2318\n",
      "1309 2319\n",
      "155 2320\n",
      "493 2321\n",
      "301 2322\n",
      "1108 2323\n",
      "863 2324\n",
      "230 2325\n",
      "66 2326\n",
      "167 2327\n",
      "559 2328\n",
      "2099 2329\n",
      "128 2330\n",
      "639 2331\n",
      "510 2332\n",
      "1 2333\n",
      "433 2334\n",
      "2199 2335\n",
      "1964 2336\n"
     ]
    }
   ],
   "source": [
    "for i in range(len(correct_fakes)):\n",
    "    print(len(correct_fakes[i].split(\" \")),i)"
   ]
  },
  {
   "cell_type": "code",
   "execution_count": 108,
   "metadata": {},
   "outputs": [
    {
     "data": {
      "text/plain": [
       "0.16129032258064516"
      ]
     },
     "execution_count": 108,
     "metadata": {},
     "output_type": "execute_result"
    }
   ],
   "source": [
    "5/31"
   ]
  },
  {
   "cell_type": "code",
   "execution_count": 130,
   "metadata": {},
   "outputs": [
    {
     "data": {
      "text/plain": [
       "['drug',\n",
       " 'and',\n",
       " 'substance',\n",
       " 'abuse',\n",
       " 'has',\n",
       " 'ruined',\n",
       " 'and',\n",
       " 'get',\n",
       " 'the',\n",
       " 'lives',\n",
       " 'of',\n",
       " 'many',\n",
       " 'means',\n",
       " 'addiction',\n",
       " 'or',\n",
       " 'abuse',\n",
       " 'happens',\n",
       " 'to',\n",
       " 'stay',\n",
       " 'a',\n",
       " 'complicate',\n",
       " 'and',\n",
       " 'whole',\n",
       " 'disease',\n",
       " 'which',\n",
       " 'gradually',\n",
       " 'the',\n",
       " 'addict',\n",
       " 'of',\n",
       " 'their',\n",
       " 'physical']"
      ]
     },
     "execution_count": 130,
     "metadata": {},
     "output_type": "execute_result"
    }
   ],
   "source": [
    "nltk.word_tokenize(example1)"
   ]
  },
  {
   "cell_type": "code",
   "execution_count": 169,
   "metadata": {},
   "outputs": [
    {
     "name": "stdout",
     "output_type": "stream",
     "text": [
      "swaps done  14 total words 29 unsucessfull swaps try 9\n"
     ]
    },
    {
     "data": {
      "text/plain": [
       "(14,\n",
       " '\\\\emph{\\\\{former\\\\late\\\\}} \\\\emph{\\\\{activity\\\\last\\\\}} \\\\emph{\\\\{workweek\\\\week\\\\}} the \\\\emph{\\\\{uranium\\\\us\\\\}} \\\\emph{\\\\{division\\\\department\\\\}} of \\\\emph{\\\\{class\\\\agriculture\\\\}} usda approved \\\\emph{\\\\{playing card\\\\two\\\\}} \\\\emph{\\\\{modern\\\\new\\\\}} strains of genetically engineered potatoes the potatoes \\\\emph{\\\\{produce\\\\created\\\\}} \\\\emph{\\\\{aside\\\\by\\\\}} \\\\emph{\\\\{junior\\\\jr\\\\}} have \\\\emph{\\\\{\\\\emph{\\\\{stay\\\\been\\\\}}\\\\been\\\\}} \\\\emph{\\\\{engineer\\\\engineered\\\\}} to resist potato \\\\emph{\\\\{plant disease\\\\blight\\\\}}')"
      ]
     },
     "execution_count": 169,
     "metadata": {},
     "output_type": "execute_result"
    }
   ],
   "source": [
    "attack(correct_fakes[36])"
   ]
  },
  {
   "cell_type": "code",
   "execution_count": 170,
   "metadata": {},
   "outputs": [
    {
     "name": "stdout",
     "output_type": "stream",
     "text": [
      "swaps done  497 total words 511 unsucessfull swaps try 2\n",
      "497 by sarah jones on tue nov 1st 2016 at 1 26 pm comey struggled with not wanting to appear biased as the fbi investigated russian interference with the u s presidential election and so he told the obama administration not to accuse russia of the dnc lest they be seen as partisan share on twitter print this post russia did hack the democrats so all of that email information that the media has been reporting came from a foreign entity that seeks to alter the outcome of the u s election but fbi director \\emph{\\{bruise\\james\\}} comey struggled with not wanting to appear biased as the fbi investigated russian interference with the u s presidential election and so he told the obama administration not to accuse russia of the dnc lest they be seen as republican fbi director james comey advised the obama administration not to publicly accuse russia of hacking the dnc and more “ on the grounds that it would make the administration appear partisan too close to the nov 8 election ” officials with the told the washington post these sources with knowledge of the internal discussions spoke to the post on the condition of anonymity there are a few reasons why comey might want to keep his agency ’ s investigation of russian interference under the radar but given his choice to publicly suggest that his agency might be re opening its exhaustive investigation of clinton ’ s emails which resulted from a republican led bogus overreaching and seemingly endless benghazi investigation that also cleared clinton it seems odd that comey was going to stay silent on the russia matter comey ’ s decisions is especially odd given the reports that the russians have been communicating and coordinating with republican presidential nominee donald trump to the point that he is already ” only one of these matters might allow a foreign power control over the united states president the same sources tell the post that comey made the decision to reveal the clinton emails to congress because he had already testified in that matter and said the investigation was closed which suggests that he was concerned with his own reputation not sure i ’ m buying that because if comey really only cared about his own reputation ahead of not appearing partisan he wouldn ’ t have said anything at all but that doesn ’ t mean that his motives were nefarious there might well be good reason for this – after all this is the fbi and they can ’ t tell us everything but as of right now comey has mishandled this and appears to be trying to influence an election to help republicans just because he is a republican and just because he has donated to republicans doesn ’ t mean he isn ’ t doing his job properly but comey has a lot of explaining to do right now he is under fire for good reason as the explanations he ’ s \\emph{\\{\\emph{\\{happen\\giving\\}}\\giving\\}} for these decisions don ’ t make sense and are contradictory\n"
     ]
    }
   ],
   "source": [
    "a,b = attack(correct_fakes[45])\n",
    "print(a,b)"
   ]
  },
  {
   "cell_type": "code",
   "execution_count": 174,
   "metadata": {},
   "outputs": [
    {
     "name": "stdout",
     "output_type": "stream",
     "text": [
      "swaps done  117 total words 170 unsucessfull swaps try 9\n",
      "117 « on \\emph{\\{nowadays/today\\}} at 01 06 08 am » new lunar \\emph{\\{story/mystery\\}} \\emph{\\{amorphous shape/space\\}} news https www youtube com watch v \\emph{\\{gregorian calendar month/oct\\}} 26 2016 \\emph{\\{newly/new\\}} scientific reports \\emph{\\{stay/are\\}} once again forcing planetary scientists to rewrite the history of our own moon study \\emph{\\{tell/reveals\\}} lunar surface \\emph{\\{article/features\\}} younger than assumed http org news 2016 \\emph{\\{ten/10\\}} reveals lunar surface features \\emph{\\{new/younger\\}} html a new study into the lunar surface \\emph{\\{contradict/contradicts\\}} the notion that cratering on the moon occurs incrementally over vast of time a team of scientists studied several thousands of before and \\emph{\\{subsequently/after\\}} \\emph{\\{set/images\\}} of the surface with the visual \\emph{\\{collection/data\\}} \\emph{\\{breed/covering\\}} nearly \\emph{\\{fat-soluble vitamin/a\\}} million \\emph{\\{public square/square\\}} miles what they found \\emph{\\{stay/is\\}} that lunar cratering appears to \\emph{\\{appear/occur\\}} \\emph{\\{halogen/at\\}} a rate more than 100 times faster than the standard \\emph{\\{impingement/impact\\}} model has \\emph{\\{predict/predicted\\}} could electrical processes \\emph{\\{along/on\\}} the moon be responsible for the cratering our scarred moon https www youtube com watch v 0 the missing mystery https www youtube com watch \\emph{\\{volt/v\\}} electric crater chains https www youtube com watch \\emph{\\{volt/v\\}} logged\n"
     ]
    }
   ],
   "source": [
    "a,b = attack(correct_fakes[294])\n",
    "print(a,b)"
   ]
  },
  {
   "cell_type": "code",
   "execution_count": 173,
   "metadata": {},
   "outputs": [
    {
     "name": "stdout",
     "output_type": "stream",
     "text": [
      "swaps done  190 total words 206 unsucessfull swaps try 1\n",
      "190 print according to cbs news a des moines woman has been charged a woman with election misconduct a class d felony after officials said she voted twice des moines police sgt paul parizek says officers charged 55 year old terri rote with first degree election misconduct on thursday after being notified by elections officials that she had submitted two absentee \\emph{\\{ballot/ballots\\}} the real bombshell comes in paragraph 3 according to an iowa public radio report rote voted two times for republican presidential candidate donald trump after quoting trump ’ s repeated line on the … campaign trail ‘ the polls are rigged ' ” the cbs reporters note that thursday ’ s development is not a one off deal they quote polk county attorney john as saying “ this is maybe the third time we ’ ve had some that ’ s resulted in a criminal charge ” from there the writers go on to express their newfound support of voter id laws adding that republicans have been right all along and some method for keeping elections honest is long overdue oh wait a no they don ’ t that would \\emph{\\{stay/be\\}} the logical conclusion but since when are liberals \\emph{\\{adequate to/capable\\}} of logical thought 1 shares\n"
     ]
    }
   ],
   "source": [
    "a,b = attack(correct_fakes[258])\n",
    "print(a,b)"
   ]
  },
  {
   "cell_type": "code",
   "execution_count": null,
   "metadata": {},
   "outputs": [],
   "source": []
  }
 ],
 "metadata": {
  "kernelspec": {
   "display_name": "Python 3",
   "language": "python",
   "name": "python3"
  },
  "language_info": {
   "codemirror_mode": {
    "name": "ipython",
    "version": 3
   },
   "file_extension": ".py",
   "mimetype": "text/x-python",
   "name": "python",
   "nbconvert_exporter": "python",
   "pygments_lexer": "ipython3",
   "version": "3.7.3"
  }
 },
 "nbformat": 4,
 "nbformat_minor": 2
}
